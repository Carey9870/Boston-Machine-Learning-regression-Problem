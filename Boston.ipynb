{
 "cells": [
  {
   "cell_type": "code",
   "execution_count": 1,
   "metadata": {},
   "outputs": [],
   "source": [
    "import pandas as pd\n",
    "import numpy as np\n",
    "import matplotlib.pyplot as plt\n",
    "import missingno as msno\n",
    "import seaborn as sns"
   ]
  },
  {
   "cell_type": "code",
   "execution_count": 2,
   "metadata": {},
   "outputs": [],
   "source": [
    "from sklearn.datasets import load_boston"
   ]
  },
  {
   "cell_type": "code",
   "execution_count": 3,
   "metadata": {},
   "outputs": [
    {
     "name": "stderr",
     "output_type": "stream",
     "text": [
      "c:\\Users\\ACT\\AppData\\Local\\Programs\\Python\\Python310\\lib\\site-packages\\sklearn\\utils\\deprecation.py:87: FutureWarning: Function load_boston is deprecated; `load_boston` is deprecated in 1.0 and will be removed in 1.2.\n",
      "\n",
      "    The Boston housing prices dataset has an ethical problem. You can refer to\n",
      "    the documentation of this function for further details.\n",
      "\n",
      "    The scikit-learn maintainers therefore strongly discourage the use of this\n",
      "    dataset unless the purpose of the code is to study and educate about\n",
      "    ethical issues in data science and machine learning.\n",
      "\n",
      "    In this special case, you can fetch the dataset from the original\n",
      "    source::\n",
      "\n",
      "        import pandas as pd\n",
      "        import numpy as np\n",
      "\n",
      "\n",
      "        data_url = \"http://lib.stat.cmu.edu/datasets/boston\"\n",
      "        raw_df = pd.read_csv(data_url, sep=\"\\s+\", skiprows=22, header=None)\n",
      "        data = np.hstack([raw_df.values[::2, :], raw_df.values[1::2, :2]])\n",
      "        target = raw_df.values[1::2, 2]\n",
      "\n",
      "    Alternative datasets include the California housing dataset (i.e.\n",
      "    :func:`~sklearn.datasets.fetch_california_housing`) and the Ames housing\n",
      "    dataset. You can load the datasets as follows::\n",
      "\n",
      "        from sklearn.datasets import fetch_california_housing\n",
      "        housing = fetch_california_housing()\n",
      "\n",
      "    for the California housing dataset and::\n",
      "\n",
      "        from sklearn.datasets import fetch_openml\n",
      "        housing = fetch_openml(name=\"house_prices\", as_frame=True)\n",
      "\n",
      "    for the Ames housing dataset.\n",
      "    \n",
      "  warnings.warn(msg, category=FutureWarning)\n"
     ]
    }
   ],
   "source": [
    "boston = load_boston()"
   ]
  },
  {
   "cell_type": "code",
   "execution_count": 4,
   "metadata": {},
   "outputs": [
    {
     "data": {
      "text/plain": [
       "dict_keys(['data', 'target', 'feature_names', 'DESCR', 'filename', 'data_module'])"
      ]
     },
     "execution_count": 4,
     "metadata": {},
     "output_type": "execute_result"
    }
   ],
   "source": [
    "boston.keys()"
   ]
  },
  {
   "cell_type": "code",
   "execution_count": 10,
   "metadata": {},
   "outputs": [
    {
     "data": {
      "text/plain": [
       "'boston_house_prices.csv'"
      ]
     },
     "execution_count": 10,
     "metadata": {},
     "output_type": "execute_result"
    }
   ],
   "source": [
    "boston.filename"
   ]
  },
  {
   "cell_type": "code",
   "execution_count": 11,
   "metadata": {},
   "outputs": [
    {
     "data": {
      "text/plain": [
       "'sklearn.datasets.data'"
      ]
     },
     "execution_count": 11,
     "metadata": {},
     "output_type": "execute_result"
    }
   ],
   "source": [
    "boston.data_module"
   ]
  },
  {
   "cell_type": "code",
   "execution_count": 9,
   "metadata": {},
   "outputs": [
    {
     "name": "stdout",
     "output_type": "stream",
     "text": [
      ".. _boston_dataset:\n",
      "\n",
      "Boston house prices dataset\n",
      "---------------------------\n",
      "\n",
      "**Data Set Characteristics:**  \n",
      "\n",
      "    :Number of Instances: 506 \n",
      "\n",
      "    :Number of Attributes: 13 numeric/categorical predictive. Median Value (attribute 14) is usually the target.\n",
      "\n",
      "    :Attribute Information (in order):\n",
      "        - CRIM     per capita crime rate by town\n",
      "        - ZN       proportion of residential land zoned for lots over 25,000 sq.ft.\n",
      "        - INDUS    proportion of non-retail business acres per town\n",
      "        - CHAS     Charles River dummy variable (= 1 if tract bounds river; 0 otherwise)\n",
      "        - NOX      nitric oxides concentration (parts per 10 million)\n",
      "        - RM       average number of rooms per dwelling\n",
      "        - AGE      proportion of owner-occupied units built prior to 1940\n",
      "        - DIS      weighted distances to five Boston employment centres\n",
      "        - RAD      index of accessibility to radial highways\n",
      "        - TAX      full-value property-tax rate per $10,000\n",
      "        - PTRATIO  pupil-teacher ratio by town\n",
      "        - B        1000(Bk - 0.63)^2 where Bk is the proportion of black people by town\n",
      "        - LSTAT    % lower status of the population\n",
      "        - MEDV     Median value of owner-occupied homes in $1000's\n",
      "\n",
      "    :Missing Attribute Values: None\n",
      "\n",
      "    :Creator: Harrison, D. and Rubinfeld, D.L.\n",
      "\n",
      "This is a copy of UCI ML housing dataset.\n",
      "https://archive.ics.uci.edu/ml/machine-learning-databases/housing/\n",
      "\n",
      "\n",
      "This dataset was taken from the StatLib library which is maintained at Carnegie Mellon University.\n",
      "\n",
      "The Boston house-price data of Harrison, D. and Rubinfeld, D.L. 'Hedonic\n",
      "prices and the demand for clean air', J. Environ. Economics & Management,\n",
      "vol.5, 81-102, 1978.   Used in Belsley, Kuh & Welsch, 'Regression diagnostics\n",
      "...', Wiley, 1980.   N.B. Various transformations are used in the table on\n",
      "pages 244-261 of the latter.\n",
      "\n",
      "The Boston house-price data has been used in many machine learning papers that address regression\n",
      "problems.   \n",
      "     \n",
      ".. topic:: References\n",
      "\n",
      "   - Belsley, Kuh & Welsch, 'Regression diagnostics: Identifying Influential Data and Sources of Collinearity', Wiley, 1980. 244-261.\n",
      "   - Quinlan,R. (1993). Combining Instance-Based and Model-Based Learning. In Proceedings on the Tenth International Conference of Machine Learning, 236-243, University of Massachusetts, Amherst. Morgan Kaufmann.\n",
      "\n"
     ]
    }
   ],
   "source": [
    "print(boston.DESCR)"
   ]
  },
  {
   "cell_type": "code",
   "execution_count": 7,
   "metadata": {},
   "outputs": [
    {
     "data": {
      "text/plain": [
       "array(['CRIM', 'ZN', 'INDUS', 'CHAS', 'NOX', 'RM', 'AGE', 'DIS', 'RAD',\n",
       "       'TAX', 'PTRATIO', 'B', 'LSTAT'], dtype='<U7')"
      ]
     },
     "execution_count": 7,
     "metadata": {},
     "output_type": "execute_result"
    }
   ],
   "source": [
    "boston.feature_names"
   ]
  },
  {
   "cell_type": "code",
   "execution_count": 5,
   "metadata": {},
   "outputs": [],
   "source": [
    "X = boston.data"
   ]
  },
  {
   "cell_type": "code",
   "execution_count": 6,
   "metadata": {},
   "outputs": [],
   "source": [
    "y = boston.target"
   ]
  },
  {
   "cell_type": "code",
   "execution_count": 12,
   "metadata": {},
   "outputs": [],
   "source": [
    "# load this in a dataframe\n",
    "\n",
    "df = pd.DataFrame(\n",
    "    X, columns=boston.feature_names\n",
    ")"
   ]
  },
  {
   "cell_type": "code",
   "execution_count": 13,
   "metadata": {},
   "outputs": [
    {
     "data": {
      "text/html": [
       "<div>\n",
       "<style scoped>\n",
       "    .dataframe tbody tr th:only-of-type {\n",
       "        vertical-align: middle;\n",
       "    }\n",
       "\n",
       "    .dataframe tbody tr th {\n",
       "        vertical-align: top;\n",
       "    }\n",
       "\n",
       "    .dataframe thead th {\n",
       "        text-align: right;\n",
       "    }\n",
       "</style>\n",
       "<table border=\"1\" class=\"dataframe\">\n",
       "  <thead>\n",
       "    <tr style=\"text-align: right;\">\n",
       "      <th></th>\n",
       "      <th>CRIM</th>\n",
       "      <th>ZN</th>\n",
       "      <th>INDUS</th>\n",
       "      <th>CHAS</th>\n",
       "      <th>NOX</th>\n",
       "      <th>RM</th>\n",
       "      <th>AGE</th>\n",
       "      <th>DIS</th>\n",
       "      <th>RAD</th>\n",
       "      <th>TAX</th>\n",
       "      <th>PTRATIO</th>\n",
       "      <th>B</th>\n",
       "      <th>LSTAT</th>\n",
       "    </tr>\n",
       "  </thead>\n",
       "  <tbody>\n",
       "    <tr>\n",
       "      <th>444</th>\n",
       "      <td>12.8023</td>\n",
       "      <td>0.0</td>\n",
       "      <td>18.1</td>\n",
       "      <td>0.0</td>\n",
       "      <td>0.74</td>\n",
       "      <td>5.854</td>\n",
       "      <td>96.6</td>\n",
       "      <td>1.8956</td>\n",
       "      <td>24.0</td>\n",
       "      <td>666.0</td>\n",
       "      <td>20.2</td>\n",
       "      <td>240.52</td>\n",
       "      <td>23.79</td>\n",
       "    </tr>\n",
       "    <tr>\n",
       "      <th>386</th>\n",
       "      <td>24.3938</td>\n",
       "      <td>0.0</td>\n",
       "      <td>18.1</td>\n",
       "      <td>0.0</td>\n",
       "      <td>0.70</td>\n",
       "      <td>4.652</td>\n",
       "      <td>100.0</td>\n",
       "      <td>1.4672</td>\n",
       "      <td>24.0</td>\n",
       "      <td>666.0</td>\n",
       "      <td>20.2</td>\n",
       "      <td>396.90</td>\n",
       "      <td>28.28</td>\n",
       "    </tr>\n",
       "  </tbody>\n",
       "</table>\n",
       "</div>"
      ],
      "text/plain": [
       "        CRIM   ZN  INDUS  CHAS   NOX     RM    AGE     DIS   RAD    TAX  \\\n",
       "444  12.8023  0.0   18.1   0.0  0.74  5.854   96.6  1.8956  24.0  666.0   \n",
       "386  24.3938  0.0   18.1   0.0  0.70  4.652  100.0  1.4672  24.0  666.0   \n",
       "\n",
       "     PTRATIO       B  LSTAT  \n",
       "444     20.2  240.52  23.79  \n",
       "386     20.2  396.90  28.28  "
      ]
     },
     "execution_count": 13,
     "metadata": {},
     "output_type": "execute_result"
    }
   ],
   "source": [
    "df.sample(n=2)"
   ]
  },
  {
   "cell_type": "code",
   "execution_count": 14,
   "metadata": {},
   "outputs": [],
   "source": [
    "df['target'] = y"
   ]
  },
  {
   "cell_type": "markdown",
   "metadata": {},
   "source": [
    "                Data exploration"
   ]
  },
  {
   "cell_type": "code",
   "execution_count": 17,
   "metadata": {},
   "outputs": [
    {
     "data": {
      "text/plain": [
       "0"
      ]
     },
     "execution_count": 17,
     "metadata": {},
     "output_type": "execute_result"
    }
   ],
   "source": [
    "# check for null values\n",
    "\n",
    "df.isna().sum().sum()"
   ]
  },
  {
   "cell_type": "code",
   "execution_count": 18,
   "metadata": {},
   "outputs": [
    {
     "data": {
      "text/plain": [
       "<AxesSubplot:title={'center':'Distribution of target prices'}, ylabel='Frequency'>"
      ]
     },
     "execution_count": 18,
     "metadata": {},
     "output_type": "execute_result"
    },
    {
     "data": {
      "image/png": "[encoded data removed]",
      "text/plain": [
       "<Figure size 432x288 with 1 Axes>"
      ]
     },
     "metadata": {
      "needs_background": "light"
     },
     "output_type": "display_data"
    }
   ],
   "source": [
    "# understand the distribution of the target\n",
    "\n",
    "df['target'].plot(\n",
    "    title='Distribution of target prices', kind='hist'\n",
    ")"
   ]
  },
  {
   "cell_type": "markdown",
   "metadata": {},
   "source": [
    "        observation: \n",
    "\n",
    "                - The prices range between 5 and 50.\n",
    "\n",
    "                - we can tell from the histogram that most of the prices are below 35."
   ]
  },
  {
   "cell_type": "code",
   "execution_count": 24,
   "metadata": {},
   "outputs": [
    {
     "data": {
      "text/html": [
       "<div>\n",
       "<style scoped>\n",
       "    .dataframe tbody tr th:only-of-type {\n",
       "        vertical-align: middle;\n",
       "    }\n",
       "\n",
       "    .dataframe tbody tr th {\n",
       "        vertical-align: top;\n",
       "    }\n",
       "\n",
       "    .dataframe thead th {\n",
       "        text-align: right;\n",
       "    }\n",
       "</style>\n",
       "<table border=\"1\" class=\"dataframe\">\n",
       "  <thead>\n",
       "    <tr style=\"text-align: right;\">\n",
       "      <th></th>\n",
       "      <th>CRIM</th>\n",
       "      <th>NOX</th>\n",
       "      <th>size</th>\n",
       "    </tr>\n",
       "  </thead>\n",
       "  <tbody>\n",
       "    <tr>\n",
       "      <th>366</th>\n",
       "      <td>2.44668</td>\n",
       "      <td>0.871</td>\n",
       "      <td>1</td>\n",
       "    </tr>\n",
       "    <tr>\n",
       "      <th>358</th>\n",
       "      <td>2.15505</td>\n",
       "      <td>0.871</td>\n",
       "      <td>1</td>\n",
       "    </tr>\n",
       "    <tr>\n",
       "      <th>346</th>\n",
       "      <td>1.41385</td>\n",
       "      <td>0.871</td>\n",
       "      <td>1</td>\n",
       "    </tr>\n",
       "    <tr>\n",
       "      <th>353</th>\n",
       "      <td>1.65660</td>\n",
       "      <td>0.871</td>\n",
       "      <td>1</td>\n",
       "    </tr>\n",
       "    <tr>\n",
       "      <th>357</th>\n",
       "      <td>2.14918</td>\n",
       "      <td>0.871</td>\n",
       "      <td>1</td>\n",
       "    </tr>\n",
       "    <tr>\n",
       "      <th>...</th>\n",
       "      <td>...</td>\n",
       "      <td>...</td>\n",
       "      <td>...</td>\n",
       "    </tr>\n",
       "    <tr>\n",
       "      <th>11</th>\n",
       "      <td>0.01538</td>\n",
       "      <td>0.394</td>\n",
       "      <td>1</td>\n",
       "    </tr>\n",
       "    <tr>\n",
       "      <th>71</th>\n",
       "      <td>0.04819</td>\n",
       "      <td>0.392</td>\n",
       "      <td>1</td>\n",
       "    </tr>\n",
       "    <tr>\n",
       "      <th>42</th>\n",
       "      <td>0.03548</td>\n",
       "      <td>0.392</td>\n",
       "      <td>1</td>\n",
       "    </tr>\n",
       "    <tr>\n",
       "      <th>2</th>\n",
       "      <td>0.01096</td>\n",
       "      <td>0.389</td>\n",
       "      <td>1</td>\n",
       "    </tr>\n",
       "    <tr>\n",
       "      <th>16</th>\n",
       "      <td>0.01965</td>\n",
       "      <td>0.385</td>\n",
       "      <td>1</td>\n",
       "    </tr>\n",
       "  </tbody>\n",
       "</table>\n",
       "<p>506 rows × 3 columns</p>\n",
       "</div>"
      ],
      "text/plain": [
       "        CRIM    NOX  size\n",
       "366  2.44668  0.871     1\n",
       "358  2.15505  0.871     1\n",
       "346  1.41385  0.871     1\n",
       "353  1.65660  0.871     1\n",
       "357  2.14918  0.871     1\n",
       "..       ...    ...   ...\n",
       "11   0.01538  0.394     1\n",
       "71   0.04819  0.392     1\n",
       "42   0.03548  0.392     1\n",
       "2    0.01096  0.389     1\n",
       "16   0.01965  0.385     1\n",
       "\n",
       "[506 rows x 3 columns]"
      ]
     },
     "execution_count": 24,
     "metadata": {},
     "output_type": "execute_result"
    }
   ],
   "source": [
    "df.groupby(['CRIM', 'NOX'], as_index=False).size().sort_values(\n",
    "    by='NOX', ascending=False\n",
    ")"
   ]
  },
  {
   "cell_type": "markdown",
   "metadata": {},
   "source": [
    "        Observation:  NOX -  nitric oxides concentration (parts per 10 million) occur on land 366, 358, 346"
   ]
  },
  {
   "cell_type": "markdown",
   "metadata": {},
   "source": [
    "-   we can do more on data exploration"
   ]
  },
  {
   "cell_type": "markdown",
   "metadata": {},
   "source": [
    "    preparing data for Machine Learning"
   ]
  },
  {
   "cell_type": "code",
   "execution_count": 50,
   "metadata": {},
   "outputs": [],
   "source": [
    "from sklearn.model_selection import train_test_split\n",
    "\n",
    "X_train, X_test, y_train, y_test = train_test_split(\n",
    "    X,y,test_size=0.25\n",
    ")"
   ]
  },
  {
   "cell_type": "markdown",
   "metadata": {},
   "source": [
    "    - calculate baseline"
   ]
  },
  {
   "cell_type": "code",
   "execution_count": 28,
   "metadata": {},
   "outputs": [
    {
     "data": {
      "text/plain": [
       "DummyRegressor()"
      ]
     },
     "execution_count": 28,
     "metadata": {},
     "output_type": "execute_result"
    }
   ],
   "source": [
    "from sklearn.dummy import DummyRegressor\n",
    "\n",
    "baseline = DummyRegressor()\n",
    "\n",
    "baseline.fit(X_train, y_train)"
   ]
  },
  {
   "cell_type": "code",
   "execution_count": 35,
   "metadata": {},
   "outputs": [],
   "source": [
    "y_baseline = baseline.predict(X_test)"
   ]
  },
  {
   "cell_type": "code",
   "execution_count": 37,
   "metadata": {},
   "outputs": [
    {
     "data": {
      "text/plain": [
       "array([22.7348285, 22.7348285, 22.7348285, 22.7348285, 22.7348285,\n",
       "       22.7348285, 22.7348285, 22.7348285, 22.7348285, 22.7348285,\n",
       "       22.7348285, 22.7348285, 22.7348285, 22.7348285, 22.7348285,\n",
       "       22.7348285, 22.7348285, 22.7348285, 22.7348285, 22.7348285,\n",
       "       22.7348285, 22.7348285, 22.7348285, 22.7348285, 22.7348285,\n",
       "       22.7348285, 22.7348285, 22.7348285, 22.7348285, 22.7348285,\n",
       "       22.7348285, 22.7348285, 22.7348285, 22.7348285, 22.7348285,\n",
       "       22.7348285, 22.7348285, 22.7348285, 22.7348285, 22.7348285,\n",
       "       22.7348285, 22.7348285, 22.7348285, 22.7348285, 22.7348285,\n",
       "       22.7348285, 22.7348285, 22.7348285, 22.7348285, 22.7348285,\n",
       "       22.7348285, 22.7348285, 22.7348285, 22.7348285, 22.7348285,\n",
       "       22.7348285, 22.7348285, 22.7348285, 22.7348285, 22.7348285,\n",
       "       22.7348285, 22.7348285, 22.7348285, 22.7348285, 22.7348285,\n",
       "       22.7348285, 22.7348285, 22.7348285, 22.7348285, 22.7348285,\n",
       "       22.7348285, 22.7348285, 22.7348285, 22.7348285, 22.7348285,\n",
       "       22.7348285, 22.7348285, 22.7348285, 22.7348285, 22.7348285,\n",
       "       22.7348285, 22.7348285, 22.7348285, 22.7348285, 22.7348285,\n",
       "       22.7348285, 22.7348285, 22.7348285, 22.7348285, 22.7348285,\n",
       "       22.7348285, 22.7348285, 22.7348285, 22.7348285, 22.7348285,\n",
       "       22.7348285, 22.7348285, 22.7348285, 22.7348285, 22.7348285,\n",
       "       22.7348285, 22.7348285, 22.7348285, 22.7348285, 22.7348285,\n",
       "       22.7348285, 22.7348285, 22.7348285, 22.7348285, 22.7348285,\n",
       "       22.7348285, 22.7348285, 22.7348285, 22.7348285, 22.7348285,\n",
       "       22.7348285, 22.7348285, 22.7348285, 22.7348285, 22.7348285,\n",
       "       22.7348285, 22.7348285, 22.7348285, 22.7348285, 22.7348285,\n",
       "       22.7348285, 22.7348285])"
      ]
     },
     "execution_count": 37,
     "metadata": {},
     "output_type": "execute_result"
    }
   ],
   "source": [
    "y_baseline"
   ]
  },
  {
   "cell_type": "markdown",
   "metadata": {},
   "source": [
    "        - we get the mean house price of 22.7."
   ]
  },
  {
   "cell_type": "markdown",
   "metadata": {},
   "source": [
    "--"
   ]
  },
  {
   "cell_type": "markdown",
   "metadata": {},
   "source": [
    "                            Training the linear regressor"
   ]
  },
  {
   "cell_type": "code",
   "execution_count": 31,
   "metadata": {},
   "outputs": [
    {
     "data": {
      "text/plain": [
       "LinearRegression()"
      ]
     },
     "execution_count": 31,
     "metadata": {},
     "output_type": "execute_result"
    }
   ],
   "source": [
    "from sklearn.linear_model import LinearRegression\n",
    "\n",
    "reg = LinearRegression()\n",
    "\n",
    "reg.fit(X_train, y_train)"
   ]
  },
  {
   "cell_type": "code",
   "execution_count": 32,
   "metadata": {},
   "outputs": [],
   "source": [
    "y_pred = reg.predict(X_test)"
   ]
  },
  {
   "cell_type": "markdown",
   "metadata": {},
   "source": [
    "    evaluate the model"
   ]
  },
  {
   "cell_type": "code",
   "execution_count": 41,
   "metadata": {},
   "outputs": [
    {
     "name": "stdout",
     "output_type": "stream",
     "text": [
      "R2 Regressor = 0.72 vs Baseline = -0.01\n",
      "MAE Regressor = 3.63 vs Baseline = 6.47\n",
      "MSE Regressor = 20.61 vs Baseline = 75.44\n"
     ]
    }
   ],
   "source": [
    "# There are three commonly used metrics for regression: R2, MAE, and MSE\n",
    "\n",
    "from sklearn.metrics import r2_score, mean_absolute_error, mean_squared_error\n",
    "\n",
    "print(\n",
    "    'R2 Regressor = {:.2f} vs Baseline = {:.2f}'.format(\n",
    "        r2_score(y_test, y_pred),\n",
    "        r2_score(y_test, y_baseline)\n",
    "        )\n",
    ")\n",
    "\n",
    "print(\n",
    "    'MAE Regressor = {:.2f} vs Baseline = {:.2f}'.format(\n",
    "        mean_absolute_error(y_test, y_pred),\n",
    "        mean_absolute_error(y_test, y_baseline)\n",
    "        )\n",
    ")\n",
    "\n",
    "print(\n",
    "    'MSE Regressor = {:.2f} vs Baseline = {:.2f}'.format(\n",
    "        mean_squared_error(y_test, y_pred),\n",
    "        mean_squared_error(y_test, y_baseline)\n",
    "        )\n",
    ")"
   ]
  },
  {
   "cell_type": "markdown",
   "metadata": {},
   "source": [
    "            our model is 72% accurate"
   ]
  },
  {
   "cell_type": "markdown",
   "metadata": {},
   "source": [
    "                Scaling for more meaningful coefficients"
   ]
  },
  {
   "cell_type": "code",
   "execution_count": 61,
   "metadata": {},
   "outputs": [],
   "source": [
    "from sklearn.linear_model import LinearRegression\n",
    "from sklearn.preprocessing import MinMaxScaler\n",
    "\n",
    "scaler = MinMaxScaler()\n",
    "reg = LinearRegression()\n",
    "\n",
    "x_train_scaled = scaler.fit_transform(X_train)\n",
    "x_test_scaled = scaler.transform(X_test)\n",
    "\n",
    "reg.fit(x_train_scaled, y_train)\n",
    "\n",
    "y_test_pred = reg.predict(x_test_scaled)"
   ]
  },
  {
   "cell_type": "code",
   "execution_count": 62,
   "metadata": {},
   "outputs": [
    {
     "name": "stdout",
     "output_type": "stream",
     "text": [
      "R2 Regressor = 0.71 vs Baseline = -0.00\n",
      "MAE Regressor = 3.60 vs Baseline = 7.09\n",
      "MSE Regressor = 27.83 vs Baseline = 97.12\n"
     ]
    }
   ],
   "source": [
    "# There are three commonly used metrics for regression: R2, MAE, and MSE\n",
    "\n",
    "from sklearn.metrics import r2_score, mean_absolute_error, mean_squared_error\n",
    "\n",
    "print(\n",
    "    'R2 Regressor = {:.2f} vs Baseline = {:.2f}'.format(\n",
    "        r2_score(y_test,y_test_pred),\n",
    "        r2_score(y_test, y_baseline)\n",
    "        )\n",
    ")\n",
    "\n",
    "print(\n",
    "    'MAE Regressor = {:.2f} vs Baseline = {:.2f}'.format(\n",
    "        mean_absolute_error(y_test, y_test_pred),\n",
    "        mean_absolute_error(y_test, y_baseline)\n",
    "        )\n",
    ")\n",
    "\n",
    "print(\n",
    "    'MSE Regressor = {:.2f} vs Baseline = {:.2f}'.format(\n",
    "        mean_squared_error(y_test, y_test_pred),\n",
    "        mean_squared_error(y_test, y_baseline)\n",
    "        )\n",
    ")"
   ]
  },
  {
   "cell_type": "markdown",
   "metadata": {},
   "source": [
    "            with scaling we achieve 71% accuracy"
   ]
  },
  {
   "cell_type": "markdown",
   "metadata": {},
   "source": [
    "--"
   ]
  },
  {
   "cell_type": "markdown",
   "metadata": {},
   "source": [
    "                Adding polynomial features"
   ]
  },
  {
   "cell_type": "code",
   "execution_count": 64,
   "metadata": {},
   "outputs": [],
   "source": [
    "from sklearn.preprocessing import PolynomialFeatures\n",
    "\n",
    "poly = PolynomialFeatures(degree=3) # To get both the quadratic and cubic feature transformation, we set the degree parameter to 3.\n",
    "x_train_poly = poly.fit_transform(X_train)\n",
    "x_test_poly = poly.transform(X_test)"
   ]
  },
  {
   "cell_type": "markdown",
   "metadata": {},
   "source": [
    "        Fitting the linear regressor with the derived features"
   ]
  },
  {
   "cell_type": "code",
   "execution_count": 66,
   "metadata": {},
   "outputs": [],
   "source": [
    "from sklearn.linear_model import LinearRegression\n",
    "\n",
    "reg = LinearRegression(fit_intercept=False)\n",
    "\n",
    "reg.fit(x_train_poly, y_train)\n",
    "\n",
    "y_test_pred = reg.predict(x_test_poly)"
   ]
  },
  {
   "cell_type": "code",
   "execution_count": 67,
   "metadata": {},
   "outputs": [
    {
     "name": "stdout",
     "output_type": "stream",
     "text": [
      "R2 Regressor = -1585.06 vs Baseline = -0.00\n",
      "MAE Regressor = 161.75 vs Baseline = 7.09\n",
      "MSE Regressor = 153693.02 vs Baseline = 97.12\n"
     ]
    }
   ],
   "source": [
    "# There are three commonly used metrics for regression: R2, MAE, and MSE\n",
    "\n",
    "from sklearn.metrics import r2_score, mean_absolute_error, mean_squared_error\n",
    "\n",
    "print(\n",
    "    'R2 Regressor = {:.2f} vs Baseline = {:.2f}'.format(\n",
    "        r2_score(y_test,y_test_pred),\n",
    "        r2_score(y_test, y_baseline)\n",
    "        )\n",
    ")\n",
    "\n",
    "print(\n",
    "    'MAE Regressor = {:.2f} vs Baseline = {:.2f}'.format(\n",
    "        mean_absolute_error(y_test, y_test_pred),\n",
    "        mean_absolute_error(y_test, y_baseline)\n",
    "        )\n",
    ")\n",
    "\n",
    "print(\n",
    "    'MSE Regressor = {:.2f} vs Baseline = {:.2f}'.format(\n",
    "        mean_squared_error(y_test, y_test_pred),\n",
    "        mean_squared_error(y_test, y_baseline)\n",
    "        )\n",
    ")"
   ]
  },
  {
   "cell_type": "markdown",
   "metadata": {},
   "source": [
    "        our model performs very very very poor. Throw it in the trash."
   ]
  },
  {
   "cell_type": "markdown",
   "metadata": {},
   "source": [
    "            Regularizing the regressor"
   ]
  },
  {
   "cell_type": "markdown",
   "metadata": {},
   "source": [
    "            Training the lasso regressor"
   ]
  },
  {
   "cell_type": "code",
   "execution_count": 68,
   "metadata": {},
   "outputs": [
    {
     "name": "stderr",
     "output_type": "stream",
     "text": [
      "c:\\Users\\ACT\\AppData\\Local\\Programs\\Python\\Python310\\lib\\site-packages\\sklearn\\linear_model\\_coordinate_descent.py:647: ConvergenceWarning: Objective did not converge. You might want to increase the number of iterations, check the scale of the features or consider increasing regularisation. Duality gap: 1.085e+03, tolerance: 2.189e+01\n",
      "  model = cd_fast.enet_coordinate_descent(\n"
     ]
    }
   ],
   "source": [
    "from sklearn.linear_model import Lasso\n",
    "\n",
    "reg = Lasso(fit_intercept=False)\n",
    "\n",
    "reg.fit(x_train_poly, y_train)\n",
    "\n",
    "y_test_pred = reg.predict(x_test_poly)"
   ]
  },
  {
   "cell_type": "code",
   "execution_count": 69,
   "metadata": {},
   "outputs": [
    {
     "name": "stdout",
     "output_type": "stream",
     "text": [
      "R2 Regressor = 0.81 vs Baseline = -0.00\n",
      "MAE Regressor = 2.82 vs Baseline = 7.09\n",
      "MSE Regressor = 18.65 vs Baseline = 97.12\n"
     ]
    }
   ],
   "source": [
    "# There are three commonly used metrics for regression: R2, MAE, and MSE\n",
    "\n",
    "from sklearn.metrics import r2_score, mean_absolute_error, mean_squared_error\n",
    "\n",
    "print(\n",
    "    'R2 Regressor = {:.2f} vs Baseline = {:.2f}'.format(\n",
    "        r2_score(y_test,y_test_pred),\n",
    "        r2_score(y_test, y_baseline)\n",
    "        )\n",
    ")\n",
    "\n",
    "print(\n",
    "    'MAE Regressor = {:.2f} vs Baseline = {:.2f}'.format(\n",
    "        mean_absolute_error(y_test, y_test_pred),\n",
    "        mean_absolute_error(y_test, y_baseline)\n",
    "        )\n",
    ")\n",
    "\n",
    "print(\n",
    "    'MSE Regressor = {:.2f} vs Baseline = {:.2f}'.format(\n",
    "        mean_squared_error(y_test, y_test_pred),\n",
    "        mean_squared_error(y_test, y_baseline)\n",
    "        )\n",
    ")"
   ]
  },
  {
   "cell_type": "markdown",
   "metadata": {},
   "source": [
    "        our lasso regressor performs well, 81% accuracy"
   ]
  },
  {
   "cell_type": "markdown",
   "metadata": {},
   "source": [
    "                Finding the optimum regularization parameter"
   ]
  },
  {
   "cell_type": "code",
   "execution_count": 70,
   "metadata": {},
   "outputs": [
    {
     "name": "stderr",
     "output_type": "stream",
     "text": [
      "c:\\Users\\ACT\\AppData\\Local\\Programs\\Python\\Python310\\lib\\site-packages\\sklearn\\linear_model\\_coordinate_descent.py:647: ConvergenceWarning: Objective did not converge. You might want to increase the number of iterations, check the scale of the features or consider increasing regularisation. Duality gap: 1.857e+01, tolerance: 1.793e+01\n",
      "  model = cd_fast.enet_coordinate_descent(\n",
      "c:\\Users\\ACT\\AppData\\Local\\Programs\\Python\\Python310\\lib\\site-packages\\sklearn\\linear_model\\_coordinate_descent.py:647: ConvergenceWarning: Objective did not converge. You might want to increase the number of iterations, check the scale of the features or consider increasing regularisation. Duality gap: 1.955e+01, tolerance: 1.793e+01\n",
      "  model = cd_fast.enet_coordinate_descent(\n",
      "c:\\Users\\ACT\\AppData\\Local\\Programs\\Python\\Python310\\lib\\site-packages\\sklearn\\linear_model\\_coordinate_descent.py:647: ConvergenceWarning: Objective did not converge. You might want to increase the number of iterations, check the scale of the features or consider increasing regularisation. Duality gap: 1.431e+02, tolerance: 1.793e+01\n",
      "  model = cd_fast.enet_coordinate_descent(\n",
      "c:\\Users\\ACT\\AppData\\Local\\Programs\\Python\\Python310\\lib\\site-packages\\sklearn\\linear_model\\_coordinate_descent.py:647: ConvergenceWarning: Objective did not converge. You might want to increase the number of iterations, check the scale of the features or consider increasing regularisation. Duality gap: 4.220e+03, tolerance: 1.793e+01\n",
      "  model = cd_fast.enet_coordinate_descent(\n",
      "c:\\Users\\ACT\\AppData\\Local\\Programs\\Python\\Python310\\lib\\site-packages\\sklearn\\linear_model\\_coordinate_descent.py:647: ConvergenceWarning: Objective did not converge. You might want to increase the number of iterations, check the scale of the features or consider increasing regularisation. Duality gap: 3.643e+01, tolerance: 1.793e+01\n",
      "  model = cd_fast.enet_coordinate_descent(\n",
      "c:\\Users\\ACT\\AppData\\Local\\Programs\\Python\\Python310\\lib\\site-packages\\sklearn\\linear_model\\_coordinate_descent.py:647: ConvergenceWarning: Objective did not converge. You might want to increase the number of iterations, check the scale of the features or consider increasing regularisation. Duality gap: 3.796e+03, tolerance: 1.793e+01\n",
      "  model = cd_fast.enet_coordinate_descent(\n",
      "c:\\Users\\ACT\\AppData\\Local\\Programs\\Python\\Python310\\lib\\site-packages\\sklearn\\linear_model\\_coordinate_descent.py:647: ConvergenceWarning: Objective did not converge. You might want to increase the number of iterations, check the scale of the features or consider increasing regularisation. Duality gap: 3.691e+03, tolerance: 1.793e+01\n",
      "  model = cd_fast.enet_coordinate_descent(\n",
      "c:\\Users\\ACT\\AppData\\Local\\Programs\\Python\\Python310\\lib\\site-packages\\sklearn\\linear_model\\_coordinate_descent.py:647: ConvergenceWarning: Objective did not converge. You might want to increase the number of iterations, check the scale of the features or consider increasing regularisation. Duality gap: 3.275e+03, tolerance: 1.793e+01\n",
      "  model = cd_fast.enet_coordinate_descent(\n",
      "c:\\Users\\ACT\\AppData\\Local\\Programs\\Python\\Python310\\lib\\site-packages\\sklearn\\linear_model\\_coordinate_descent.py:647: ConvergenceWarning: Objective did not converge. You might want to increase the number of iterations, check the scale of the features or consider increasing regularisation. Duality gap: 2.977e+03, tolerance: 1.793e+01\n",
      "  model = cd_fast.enet_coordinate_descent(\n",
      "c:\\Users\\ACT\\AppData\\Local\\Programs\\Python\\Python310\\lib\\site-packages\\sklearn\\linear_model\\_coordinate_descent.py:647: ConvergenceWarning: Objective did not converge. You might want to increase the number of iterations, check the scale of the features or consider increasing regularisation. Duality gap: 2.661e+03, tolerance: 1.793e+01\n",
      "  model = cd_fast.enet_coordinate_descent(\n",
      "c:\\Users\\ACT\\AppData\\Local\\Programs\\Python\\Python310\\lib\\site-packages\\sklearn\\linear_model\\_coordinate_descent.py:647: ConvergenceWarning: Objective did not converge. You might want to increase the number of iterations, check the scale of the features or consider increasing regularisation. Duality gap: 2.311e+03, tolerance: 1.793e+01\n",
      "  model = cd_fast.enet_coordinate_descent(\n",
      "c:\\Users\\ACT\\AppData\\Local\\Programs\\Python\\Python310\\lib\\site-packages\\sklearn\\linear_model\\_coordinate_descent.py:647: ConvergenceWarning: Objective did not converge. You might want to increase the number of iterations, check the scale of the features or consider increasing regularisation. Duality gap: 2.026e+03, tolerance: 1.793e+01\n",
      "  model = cd_fast.enet_coordinate_descent(\n",
      "c:\\Users\\ACT\\AppData\\Local\\Programs\\Python\\Python310\\lib\\site-packages\\sklearn\\linear_model\\_coordinate_descent.py:647: ConvergenceWarning: Objective did not converge. You might want to increase the number of iterations, check the scale of the features or consider increasing regularisation. Duality gap: 1.793e+03, tolerance: 1.793e+01\n",
      "  model = cd_fast.enet_coordinate_descent(\n",
      "c:\\Users\\ACT\\AppData\\Local\\Programs\\Python\\Python310\\lib\\site-packages\\sklearn\\linear_model\\_coordinate_descent.py:647: ConvergenceWarning: Objective did not converge. You might want to increase the number of iterations, check the scale of the features or consider increasing regularisation. Duality gap: 1.614e+03, tolerance: 1.793e+01\n",
      "  model = cd_fast.enet_coordinate_descent(\n",
      "c:\\Users\\ACT\\AppData\\Local\\Programs\\Python\\Python310\\lib\\site-packages\\sklearn\\linear_model\\_coordinate_descent.py:647: ConvergenceWarning: Objective did not converge. You might want to increase the number of iterations, check the scale of the features or consider increasing regularisation. Duality gap: 1.464e+03, tolerance: 1.793e+01\n",
      "  model = cd_fast.enet_coordinate_descent(\n",
      "c:\\Users\\ACT\\AppData\\Local\\Programs\\Python\\Python310\\lib\\site-packages\\sklearn\\linear_model\\_coordinate_descent.py:647: ConvergenceWarning: Objective did not converge. You might want to increase the number of iterations, check the scale of the features or consider increasing regularisation. Duality gap: 1.343e+03, tolerance: 1.793e+01\n",
      "  model = cd_fast.enet_coordinate_descent(\n",
      "c:\\Users\\ACT\\AppData\\Local\\Programs\\Python\\Python310\\lib\\site-packages\\sklearn\\linear_model\\_coordinate_descent.py:647: ConvergenceWarning: Objective did not converge. You might want to increase the number of iterations, check the scale of the features or consider increasing regularisation. Duality gap: 1.239e+03, tolerance: 1.793e+01\n",
      "  model = cd_fast.enet_coordinate_descent(\n",
      "c:\\Users\\ACT\\AppData\\Local\\Programs\\Python\\Python310\\lib\\site-packages\\sklearn\\linear_model\\_coordinate_descent.py:647: ConvergenceWarning: Objective did not converge. You might want to increase the number of iterations, check the scale of the features or consider increasing regularisation. Duality gap: 1.122e+03, tolerance: 1.793e+01\n",
      "  model = cd_fast.enet_coordinate_descent(\n",
      "c:\\Users\\ACT\\AppData\\Local\\Programs\\Python\\Python310\\lib\\site-packages\\sklearn\\linear_model\\_coordinate_descent.py:647: ConvergenceWarning: Objective did not converge. You might want to increase the number of iterations, check the scale of the features or consider increasing regularisation. Duality gap: 1.009e+03, tolerance: 1.793e+01\n",
      "  model = cd_fast.enet_coordinate_descent(\n",
      "c:\\Users\\ACT\\AppData\\Local\\Programs\\Python\\Python310\\lib\\site-packages\\sklearn\\linear_model\\_coordinate_descent.py:647: ConvergenceWarning: Objective did not converge. You might want to increase the number of iterations, check the scale of the features or consider increasing regularisation. Duality gap: 9.162e+02, tolerance: 1.793e+01\n",
      "  model = cd_fast.enet_coordinate_descent(\n",
      "c:\\Users\\ACT\\AppData\\Local\\Programs\\Python\\Python310\\lib\\site-packages\\sklearn\\linear_model\\_coordinate_descent.py:647: ConvergenceWarning: Objective did not converge. You might want to increase the number of iterations, check the scale of the features or consider increasing regularisation. Duality gap: 8.431e+02, tolerance: 1.793e+01\n",
      "  model = cd_fast.enet_coordinate_descent(\n",
      "c:\\Users\\ACT\\AppData\\Local\\Programs\\Python\\Python310\\lib\\site-packages\\sklearn\\linear_model\\_coordinate_descent.py:647: ConvergenceWarning: Objective did not converge. You might want to increase the number of iterations, check the scale of the features or consider increasing regularisation. Duality gap: 7.856e+02, tolerance: 1.793e+01\n",
      "  model = cd_fast.enet_coordinate_descent(\n",
      "c:\\Users\\ACT\\AppData\\Local\\Programs\\Python\\Python310\\lib\\site-packages\\sklearn\\linear_model\\_coordinate_descent.py:647: ConvergenceWarning: Objective did not converge. You might want to increase the number of iterations, check the scale of the features or consider increasing regularisation. Duality gap: 7.360e+02, tolerance: 1.793e+01\n",
      "  model = cd_fast.enet_coordinate_descent(\n",
      "c:\\Users\\ACT\\AppData\\Local\\Programs\\Python\\Python310\\lib\\site-packages\\sklearn\\linear_model\\_coordinate_descent.py:647: ConvergenceWarning: Objective did not converge. You might want to increase the number of iterations, check the scale of the features or consider increasing regularisation. Duality gap: 6.862e+02, tolerance: 1.793e+01\n",
      "  model = cd_fast.enet_coordinate_descent(\n",
      "c:\\Users\\ACT\\AppData\\Local\\Programs\\Python\\Python310\\lib\\site-packages\\sklearn\\linear_model\\_coordinate_descent.py:647: ConvergenceWarning: Objective did not converge. You might want to increase the number of iterations, check the scale of the features or consider increasing regularisation. Duality gap: 6.380e+02, tolerance: 1.793e+01\n",
      "  model = cd_fast.enet_coordinate_descent(\n",
      "c:\\Users\\ACT\\AppData\\Local\\Programs\\Python\\Python310\\lib\\site-packages\\sklearn\\linear_model\\_coordinate_descent.py:647: ConvergenceWarning: Objective did not converge. You might want to increase the number of iterations, check the scale of the features or consider increasing regularisation. Duality gap: 5.954e+02, tolerance: 1.793e+01\n",
      "  model = cd_fast.enet_coordinate_descent(\n",
      "c:\\Users\\ACT\\AppData\\Local\\Programs\\Python\\Python310\\lib\\site-packages\\sklearn\\linear_model\\_coordinate_descent.py:647: ConvergenceWarning: Objective did not converge. You might want to increase the number of iterations, check the scale of the features or consider increasing regularisation. Duality gap: 5.591e+02, tolerance: 1.793e+01\n",
      "  model = cd_fast.enet_coordinate_descent(\n",
      "c:\\Users\\ACT\\AppData\\Local\\Programs\\Python\\Python310\\lib\\site-packages\\sklearn\\linear_model\\_coordinate_descent.py:647: ConvergenceWarning: Objective did not converge. You might want to increase the number of iterations, check the scale of the features or consider increasing regularisation. Duality gap: 5.273e+02, tolerance: 1.793e+01\n",
      "  model = cd_fast.enet_coordinate_descent(\n",
      "c:\\Users\\ACT\\AppData\\Local\\Programs\\Python\\Python310\\lib\\site-packages\\sklearn\\linear_model\\_coordinate_descent.py:647: ConvergenceWarning: Objective did not converge. You might want to increase the number of iterations, check the scale of the features or consider increasing regularisation. Duality gap: 4.975e+02, tolerance: 1.793e+01\n",
      "  model = cd_fast.enet_coordinate_descent(\n",
      "c:\\Users\\ACT\\AppData\\Local\\Programs\\Python\\Python310\\lib\\site-packages\\sklearn\\linear_model\\_coordinate_descent.py:647: ConvergenceWarning: Objective did not converge. You might want to increase the number of iterations, check the scale of the features or consider increasing regularisation. Duality gap: 4.708e+02, tolerance: 1.793e+01\n",
      "  model = cd_fast.enet_coordinate_descent(\n",
      "c:\\Users\\ACT\\AppData\\Local\\Programs\\Python\\Python310\\lib\\site-packages\\sklearn\\linear_model\\_coordinate_descent.py:647: ConvergenceWarning: Objective did not converge. You might want to increase the number of iterations, check the scale of the features or consider increasing regularisation. Duality gap: 4.481e+02, tolerance: 1.793e+01\n",
      "  model = cd_fast.enet_coordinate_descent(\n",
      "c:\\Users\\ACT\\AppData\\Local\\Programs\\Python\\Python310\\lib\\site-packages\\sklearn\\linear_model\\_coordinate_descent.py:647: ConvergenceWarning: Objective did not converge. You might want to increase the number of iterations, check the scale of the features or consider increasing regularisation. Duality gap: 4.284e+02, tolerance: 1.793e+01\n",
      "  model = cd_fast.enet_coordinate_descent(\n",
      "c:\\Users\\ACT\\AppData\\Local\\Programs\\Python\\Python310\\lib\\site-packages\\sklearn\\linear_model\\_coordinate_descent.py:647: ConvergenceWarning: Objective did not converge. You might want to increase the number of iterations, check the scale of the features or consider increasing regularisation. Duality gap: 4.107e+02, tolerance: 1.793e+01\n",
      "  model = cd_fast.enet_coordinate_descent(\n",
      "c:\\Users\\ACT\\AppData\\Local\\Programs\\Python\\Python310\\lib\\site-packages\\sklearn\\linear_model\\_coordinate_descent.py:647: ConvergenceWarning: Objective did not converge. You might want to increase the number of iterations, check the scale of the features or consider increasing regularisation. Duality gap: 3.948e+02, tolerance: 1.793e+01\n",
      "  model = cd_fast.enet_coordinate_descent(\n",
      "c:\\Users\\ACT\\AppData\\Local\\Programs\\Python\\Python310\\lib\\site-packages\\sklearn\\linear_model\\_coordinate_descent.py:647: ConvergenceWarning: Objective did not converge. You might want to increase the number of iterations, check the scale of the features or consider increasing regularisation. Duality gap: 3.803e+02, tolerance: 1.793e+01\n",
      "  model = cd_fast.enet_coordinate_descent(\n",
      "c:\\Users\\ACT\\AppData\\Local\\Programs\\Python\\Python310\\lib\\site-packages\\sklearn\\linear_model\\_coordinate_descent.py:647: ConvergenceWarning: Objective did not converge. You might want to increase the number of iterations, check the scale of the features or consider increasing regularisation. Duality gap: 3.675e+02, tolerance: 1.793e+01\n",
      "  model = cd_fast.enet_coordinate_descent(\n",
      "c:\\Users\\ACT\\AppData\\Local\\Programs\\Python\\Python310\\lib\\site-packages\\sklearn\\linear_model\\_coordinate_descent.py:647: ConvergenceWarning: Objective did not converge. You might want to increase the number of iterations, check the scale of the features or consider increasing regularisation. Duality gap: 3.558e+02, tolerance: 1.793e+01\n",
      "  model = cd_fast.enet_coordinate_descent(\n",
      "c:\\Users\\ACT\\AppData\\Local\\Programs\\Python\\Python310\\lib\\site-packages\\sklearn\\linear_model\\_coordinate_descent.py:647: ConvergenceWarning: Objective did not converge. You might want to increase the number of iterations, check the scale of the features or consider increasing regularisation. Duality gap: 3.454e+02, tolerance: 1.793e+01\n",
      "  model = cd_fast.enet_coordinate_descent(\n",
      "c:\\Users\\ACT\\AppData\\Local\\Programs\\Python\\Python310\\lib\\site-packages\\sklearn\\linear_model\\_coordinate_descent.py:647: ConvergenceWarning: Objective did not converge. You might want to increase the number of iterations, check the scale of the features or consider increasing regularisation. Duality gap: 3.361e+02, tolerance: 1.793e+01\n",
      "  model = cd_fast.enet_coordinate_descent(\n",
      "c:\\Users\\ACT\\AppData\\Local\\Programs\\Python\\Python310\\lib\\site-packages\\sklearn\\linear_model\\_coordinate_descent.py:647: ConvergenceWarning: Objective did not converge. You might want to increase the number of iterations, check the scale of the features or consider increasing regularisation. Duality gap: 3.277e+02, tolerance: 1.793e+01\n",
      "  model = cd_fast.enet_coordinate_descent(\n",
      "c:\\Users\\ACT\\AppData\\Local\\Programs\\Python\\Python310\\lib\\site-packages\\sklearn\\linear_model\\_coordinate_descent.py:647: ConvergenceWarning: Objective did not converge. You might want to increase the number of iterations, check the scale of the features or consider increasing regularisation. Duality gap: 3.201e+02, tolerance: 1.793e+01\n",
      "  model = cd_fast.enet_coordinate_descent(\n",
      "c:\\Users\\ACT\\AppData\\Local\\Programs\\Python\\Python310\\lib\\site-packages\\sklearn\\linear_model\\_coordinate_descent.py:647: ConvergenceWarning: Objective did not converge. You might want to increase the number of iterations, check the scale of the features or consider increasing regularisation. Duality gap: 3.131e+02, tolerance: 1.793e+01\n",
      "  model = cd_fast.enet_coordinate_descent(\n",
      "c:\\Users\\ACT\\AppData\\Local\\Programs\\Python\\Python310\\lib\\site-packages\\sklearn\\linear_model\\_coordinate_descent.py:647: ConvergenceWarning: Objective did not converge. You might want to increase the number of iterations, check the scale of the features or consider increasing regularisation. Duality gap: 3.066e+02, tolerance: 1.793e+01\n",
      "  model = cd_fast.enet_coordinate_descent(\n",
      "c:\\Users\\ACT\\AppData\\Local\\Programs\\Python\\Python310\\lib\\site-packages\\sklearn\\linear_model\\_coordinate_descent.py:647: ConvergenceWarning: Objective did not converge. You might want to increase the number of iterations, check the scale of the features or consider increasing regularisation. Duality gap: 3.007e+02, tolerance: 1.793e+01\n",
      "  model = cd_fast.enet_coordinate_descent(\n",
      "c:\\Users\\ACT\\AppData\\Local\\Programs\\Python\\Python310\\lib\\site-packages\\sklearn\\linear_model\\_coordinate_descent.py:647: ConvergenceWarning: Objective did not converge. You might want to increase the number of iterations, check the scale of the features or consider increasing regularisation. Duality gap: 2.952e+02, tolerance: 1.793e+01\n",
      "  model = cd_fast.enet_coordinate_descent(\n",
      "c:\\Users\\ACT\\AppData\\Local\\Programs\\Python\\Python310\\lib\\site-packages\\sklearn\\linear_model\\_coordinate_descent.py:647: ConvergenceWarning: Objective did not converge. You might want to increase the number of iterations, check the scale of the features or consider increasing regularisation. Duality gap: 2.901e+02, tolerance: 1.793e+01\n",
      "  model = cd_fast.enet_coordinate_descent(\n",
      "c:\\Users\\ACT\\AppData\\Local\\Programs\\Python\\Python310\\lib\\site-packages\\sklearn\\linear_model\\_coordinate_descent.py:647: ConvergenceWarning: Objective did not converge. You might want to increase the number of iterations, check the scale of the features or consider increasing regularisation. Duality gap: 2.854e+02, tolerance: 1.793e+01\n",
      "  model = cd_fast.enet_coordinate_descent(\n",
      "c:\\Users\\ACT\\AppData\\Local\\Programs\\Python\\Python310\\lib\\site-packages\\sklearn\\linear_model\\_coordinate_descent.py:647: ConvergenceWarning: Objective did not converge. You might want to increase the number of iterations, check the scale of the features or consider increasing regularisation. Duality gap: 2.810e+02, tolerance: 1.793e+01\n",
      "  model = cd_fast.enet_coordinate_descent(\n",
      "c:\\Users\\ACT\\AppData\\Local\\Programs\\Python\\Python310\\lib\\site-packages\\sklearn\\linear_model\\_coordinate_descent.py:647: ConvergenceWarning: Objective did not converge. You might want to increase the number of iterations, check the scale of the features or consider increasing regularisation. Duality gap: 2.769e+02, tolerance: 1.793e+01\n",
      "  model = cd_fast.enet_coordinate_descent(\n",
      "c:\\Users\\ACT\\AppData\\Local\\Programs\\Python\\Python310\\lib\\site-packages\\sklearn\\linear_model\\_coordinate_descent.py:647: ConvergenceWarning: Objective did not converge. You might want to increase the number of iterations, check the scale of the features or consider increasing regularisation. Duality gap: 2.731e+02, tolerance: 1.793e+01\n",
      "  model = cd_fast.enet_coordinate_descent(\n",
      "c:\\Users\\ACT\\AppData\\Local\\Programs\\Python\\Python310\\lib\\site-packages\\sklearn\\linear_model\\_coordinate_descent.py:647: ConvergenceWarning: Objective did not converge. You might want to increase the number of iterations, check the scale of the features or consider increasing regularisation. Duality gap: 3.454e+01, tolerance: 1.677e+01\n",
      "  model = cd_fast.enet_coordinate_descent(\n",
      "c:\\Users\\ACT\\AppData\\Local\\Programs\\Python\\Python310\\lib\\site-packages\\sklearn\\linear_model\\_coordinate_descent.py:647: ConvergenceWarning: Objective did not converge. You might want to increase the number of iterations, check the scale of the features or consider increasing regularisation. Duality gap: 1.012e+02, tolerance: 1.677e+01\n",
      "  model = cd_fast.enet_coordinate_descent(\n",
      "c:\\Users\\ACT\\AppData\\Local\\Programs\\Python\\Python310\\lib\\site-packages\\sklearn\\linear_model\\_coordinate_descent.py:647: ConvergenceWarning: Objective did not converge. You might want to increase the number of iterations, check the scale of the features or consider increasing regularisation. Duality gap: 4.282e+03, tolerance: 1.677e+01\n",
      "  model = cd_fast.enet_coordinate_descent(\n",
      "c:\\Users\\ACT\\AppData\\Local\\Programs\\Python\\Python310\\lib\\site-packages\\sklearn\\linear_model\\_coordinate_descent.py:647: ConvergenceWarning: Objective did not converge. You might want to increase the number of iterations, check the scale of the features or consider increasing regularisation. Duality gap: 1.018e+02, tolerance: 1.677e+01\n",
      "  model = cd_fast.enet_coordinate_descent(\n",
      "c:\\Users\\ACT\\AppData\\Local\\Programs\\Python\\Python310\\lib\\site-packages\\sklearn\\linear_model\\_coordinate_descent.py:647: ConvergenceWarning: Objective did not converge. You might want to increase the number of iterations, check the scale of the features or consider increasing regularisation. Duality gap: 3.822e+03, tolerance: 1.677e+01\n",
      "  model = cd_fast.enet_coordinate_descent(\n",
      "c:\\Users\\ACT\\AppData\\Local\\Programs\\Python\\Python310\\lib\\site-packages\\sklearn\\linear_model\\_coordinate_descent.py:647: ConvergenceWarning: Objective did not converge. You might want to increase the number of iterations, check the scale of the features or consider increasing regularisation. Duality gap: 3.568e+03, tolerance: 1.677e+01\n",
      "  model = cd_fast.enet_coordinate_descent(\n",
      "c:\\Users\\ACT\\AppData\\Local\\Programs\\Python\\Python310\\lib\\site-packages\\sklearn\\linear_model\\_coordinate_descent.py:647: ConvergenceWarning: Objective did not converge. You might want to increase the number of iterations, check the scale of the features or consider increasing regularisation. Duality gap: 3.230e+03, tolerance: 1.677e+01\n",
      "  model = cd_fast.enet_coordinate_descent(\n",
      "c:\\Users\\ACT\\AppData\\Local\\Programs\\Python\\Python310\\lib\\site-packages\\sklearn\\linear_model\\_coordinate_descent.py:647: ConvergenceWarning: Objective did not converge. You might want to increase the number of iterations, check the scale of the features or consider increasing regularisation. Duality gap: 2.874e+03, tolerance: 1.677e+01\n",
      "  model = cd_fast.enet_coordinate_descent(\n",
      "c:\\Users\\ACT\\AppData\\Local\\Programs\\Python\\Python310\\lib\\site-packages\\sklearn\\linear_model\\_coordinate_descent.py:647: ConvergenceWarning: Objective did not converge. You might want to increase the number of iterations, check the scale of the features or consider increasing regularisation. Duality gap: 2.494e+03, tolerance: 1.677e+01\n",
      "  model = cd_fast.enet_coordinate_descent(\n",
      "c:\\Users\\ACT\\AppData\\Local\\Programs\\Python\\Python310\\lib\\site-packages\\sklearn\\linear_model\\_coordinate_descent.py:647: ConvergenceWarning: Objective did not converge. You might want to increase the number of iterations, check the scale of the features or consider increasing regularisation. Duality gap: 2.200e+03, tolerance: 1.677e+01\n",
      "  model = cd_fast.enet_coordinate_descent(\n",
      "c:\\Users\\ACT\\AppData\\Local\\Programs\\Python\\Python310\\lib\\site-packages\\sklearn\\linear_model\\_coordinate_descent.py:647: ConvergenceWarning: Objective did not converge. You might want to increase the number of iterations, check the scale of the features or consider increasing regularisation. Duality gap: 1.922e+03, tolerance: 1.677e+01\n",
      "  model = cd_fast.enet_coordinate_descent(\n",
      "c:\\Users\\ACT\\AppData\\Local\\Programs\\Python\\Python310\\lib\\site-packages\\sklearn\\linear_model\\_coordinate_descent.py:647: ConvergenceWarning: Objective did not converge. You might want to increase the number of iterations, check the scale of the features or consider increasing regularisation. Duality gap: 1.698e+03, tolerance: 1.677e+01\n",
      "  model = cd_fast.enet_coordinate_descent(\n",
      "c:\\Users\\ACT\\AppData\\Local\\Programs\\Python\\Python310\\lib\\site-packages\\sklearn\\linear_model\\_coordinate_descent.py:647: ConvergenceWarning: Objective did not converge. You might want to increase the number of iterations, check the scale of the features or consider increasing regularisation. Duality gap: 1.530e+03, tolerance: 1.677e+01\n",
      "  model = cd_fast.enet_coordinate_descent(\n",
      "c:\\Users\\ACT\\AppData\\Local\\Programs\\Python\\Python310\\lib\\site-packages\\sklearn\\linear_model\\_coordinate_descent.py:647: ConvergenceWarning: Objective did not converge. You might want to increase the number of iterations, check the scale of the features or consider increasing regularisation. Duality gap: 1.399e+03, tolerance: 1.677e+01\n",
      "  model = cd_fast.enet_coordinate_descent(\n",
      "c:\\Users\\ACT\\AppData\\Local\\Programs\\Python\\Python310\\lib\\site-packages\\sklearn\\linear_model\\_coordinate_descent.py:647: ConvergenceWarning: Objective did not converge. You might want to increase the number of iterations, check the scale of the features or consider increasing regularisation. Duality gap: 1.296e+03, tolerance: 1.677e+01\n",
      "  model = cd_fast.enet_coordinate_descent(\n",
      "c:\\Users\\ACT\\AppData\\Local\\Programs\\Python\\Python310\\lib\\site-packages\\sklearn\\linear_model\\_coordinate_descent.py:647: ConvergenceWarning: Objective did not converge. You might want to increase the number of iterations, check the scale of the features or consider increasing regularisation. Duality gap: 1.202e+03, tolerance: 1.677e+01\n",
      "  model = cd_fast.enet_coordinate_descent(\n",
      "c:\\Users\\ACT\\AppData\\Local\\Programs\\Python\\Python310\\lib\\site-packages\\sklearn\\linear_model\\_coordinate_descent.py:647: ConvergenceWarning: Objective did not converge. You might want to increase the number of iterations, check the scale of the features or consider increasing regularisation. Duality gap: 1.110e+03, tolerance: 1.677e+01\n",
      "  model = cd_fast.enet_coordinate_descent(\n",
      "c:\\Users\\ACT\\AppData\\Local\\Programs\\Python\\Python310\\lib\\site-packages\\sklearn\\linear_model\\_coordinate_descent.py:647: ConvergenceWarning: Objective did not converge. You might want to increase the number of iterations, check the scale of the features or consider increasing regularisation. Duality gap: 1.025e+03, tolerance: 1.677e+01\n",
      "  model = cd_fast.enet_coordinate_descent(\n",
      "c:\\Users\\ACT\\AppData\\Local\\Programs\\Python\\Python310\\lib\\site-packages\\sklearn\\linear_model\\_coordinate_descent.py:647: ConvergenceWarning: Objective did not converge. You might want to increase the number of iterations, check the scale of the features or consider increasing regularisation. Duality gap: 9.506e+02, tolerance: 1.677e+01\n",
      "  model = cd_fast.enet_coordinate_descent(\n",
      "c:\\Users\\ACT\\AppData\\Local\\Programs\\Python\\Python310\\lib\\site-packages\\sklearn\\linear_model\\_coordinate_descent.py:647: ConvergenceWarning: Objective did not converge. You might want to increase the number of iterations, check the scale of the features or consider increasing regularisation. Duality gap: 8.810e+02, tolerance: 1.677e+01\n",
      "  model = cd_fast.enet_coordinate_descent(\n",
      "c:\\Users\\ACT\\AppData\\Local\\Programs\\Python\\Python310\\lib\\site-packages\\sklearn\\linear_model\\_coordinate_descent.py:647: ConvergenceWarning: Objective did not converge. You might want to increase the number of iterations, check the scale of the features or consider increasing regularisation. Duality gap: 8.121e+02, tolerance: 1.677e+01\n",
      "  model = cd_fast.enet_coordinate_descent(\n",
      "c:\\Users\\ACT\\AppData\\Local\\Programs\\Python\\Python310\\lib\\site-packages\\sklearn\\linear_model\\_coordinate_descent.py:647: ConvergenceWarning: Objective did not converge. You might want to increase the number of iterations, check the scale of the features or consider increasing regularisation. Duality gap: 7.398e+02, tolerance: 1.677e+01\n",
      "  model = cd_fast.enet_coordinate_descent(\n",
      "c:\\Users\\ACT\\AppData\\Local\\Programs\\Python\\Python310\\lib\\site-packages\\sklearn\\linear_model\\_coordinate_descent.py:647: ConvergenceWarning: Objective did not converge. You might want to increase the number of iterations, check the scale of the features or consider increasing regularisation. Duality gap: 6.685e+02, tolerance: 1.677e+01\n",
      "  model = cd_fast.enet_coordinate_descent(\n",
      "c:\\Users\\ACT\\AppData\\Local\\Programs\\Python\\Python310\\lib\\site-packages\\sklearn\\linear_model\\_coordinate_descent.py:647: ConvergenceWarning: Objective did not converge. You might want to increase the number of iterations, check the scale of the features or consider increasing regularisation. Duality gap: 6.055e+02, tolerance: 1.677e+01\n",
      "  model = cd_fast.enet_coordinate_descent(\n",
      "c:\\Users\\ACT\\AppData\\Local\\Programs\\Python\\Python310\\lib\\site-packages\\sklearn\\linear_model\\_coordinate_descent.py:647: ConvergenceWarning: Objective did not converge. You might want to increase the number of iterations, check the scale of the features or consider increasing regularisation. Duality gap: 5.502e+02, tolerance: 1.677e+01\n",
      "  model = cd_fast.enet_coordinate_descent(\n",
      "c:\\Users\\ACT\\AppData\\Local\\Programs\\Python\\Python310\\lib\\site-packages\\sklearn\\linear_model\\_coordinate_descent.py:647: ConvergenceWarning: Objective did not converge. You might want to increase the number of iterations, check the scale of the features or consider increasing regularisation. Duality gap: 5.019e+02, tolerance: 1.677e+01\n",
      "  model = cd_fast.enet_coordinate_descent(\n",
      "c:\\Users\\ACT\\AppData\\Local\\Programs\\Python\\Python310\\lib\\site-packages\\sklearn\\linear_model\\_coordinate_descent.py:647: ConvergenceWarning: Objective did not converge. You might want to increase the number of iterations, check the scale of the features or consider increasing regularisation. Duality gap: 4.608e+02, tolerance: 1.677e+01\n",
      "  model = cd_fast.enet_coordinate_descent(\n",
      "c:\\Users\\ACT\\AppData\\Local\\Programs\\Python\\Python310\\lib\\site-packages\\sklearn\\linear_model\\_coordinate_descent.py:647: ConvergenceWarning: Objective did not converge. You might want to increase the number of iterations, check the scale of the features or consider increasing regularisation. Duality gap: 4.254e+02, tolerance: 1.677e+01\n",
      "  model = cd_fast.enet_coordinate_descent(\n",
      "c:\\Users\\ACT\\AppData\\Local\\Programs\\Python\\Python310\\lib\\site-packages\\sklearn\\linear_model\\_coordinate_descent.py:647: ConvergenceWarning: Objective did not converge. You might want to increase the number of iterations, check the scale of the features or consider increasing regularisation. Duality gap: 3.954e+02, tolerance: 1.677e+01\n",
      "  model = cd_fast.enet_coordinate_descent(\n",
      "c:\\Users\\ACT\\AppData\\Local\\Programs\\Python\\Python310\\lib\\site-packages\\sklearn\\linear_model\\_coordinate_descent.py:647: ConvergenceWarning: Objective did not converge. You might want to increase the number of iterations, check the scale of the features or consider increasing regularisation. Duality gap: 3.705e+02, tolerance: 1.677e+01\n",
      "  model = cd_fast.enet_coordinate_descent(\n",
      "c:\\Users\\ACT\\AppData\\Local\\Programs\\Python\\Python310\\lib\\site-packages\\sklearn\\linear_model\\_coordinate_descent.py:647: ConvergenceWarning: Objective did not converge. You might want to increase the number of iterations, check the scale of the features or consider increasing regularisation. Duality gap: 3.501e+02, tolerance: 1.677e+01\n",
      "  model = cd_fast.enet_coordinate_descent(\n",
      "c:\\Users\\ACT\\AppData\\Local\\Programs\\Python\\Python310\\lib\\site-packages\\sklearn\\linear_model\\_coordinate_descent.py:647: ConvergenceWarning: Objective did not converge. You might want to increase the number of iterations, check the scale of the features or consider increasing regularisation. Duality gap: 3.325e+02, tolerance: 1.677e+01\n",
      "  model = cd_fast.enet_coordinate_descent(\n",
      "c:\\Users\\ACT\\AppData\\Local\\Programs\\Python\\Python310\\lib\\site-packages\\sklearn\\linear_model\\_coordinate_descent.py:647: ConvergenceWarning: Objective did not converge. You might want to increase the number of iterations, check the scale of the features or consider increasing regularisation. Duality gap: 3.168e+02, tolerance: 1.677e+01\n",
      "  model = cd_fast.enet_coordinate_descent(\n",
      "c:\\Users\\ACT\\AppData\\Local\\Programs\\Python\\Python310\\lib\\site-packages\\sklearn\\linear_model\\_coordinate_descent.py:647: ConvergenceWarning: Objective did not converge. You might want to increase the number of iterations, check the scale of the features or consider increasing regularisation. Duality gap: 3.028e+02, tolerance: 1.677e+01\n",
      "  model = cd_fast.enet_coordinate_descent(\n",
      "c:\\Users\\ACT\\AppData\\Local\\Programs\\Python\\Python310\\lib\\site-packages\\sklearn\\linear_model\\_coordinate_descent.py:647: ConvergenceWarning: Objective did not converge. You might want to increase the number of iterations, check the scale of the features or consider increasing regularisation. Duality gap: 2.906e+02, tolerance: 1.677e+01\n",
      "  model = cd_fast.enet_coordinate_descent(\n",
      "c:\\Users\\ACT\\AppData\\Local\\Programs\\Python\\Python310\\lib\\site-packages\\sklearn\\linear_model\\_coordinate_descent.py:647: ConvergenceWarning: Objective did not converge. You might want to increase the number of iterations, check the scale of the features or consider increasing regularisation. Duality gap: 2.799e+02, tolerance: 1.677e+01\n",
      "  model = cd_fast.enet_coordinate_descent(\n",
      "c:\\Users\\ACT\\AppData\\Local\\Programs\\Python\\Python310\\lib\\site-packages\\sklearn\\linear_model\\_coordinate_descent.py:647: ConvergenceWarning: Objective did not converge. You might want to increase the number of iterations, check the scale of the features or consider increasing regularisation. Duality gap: 2.704e+02, tolerance: 1.677e+01\n",
      "  model = cd_fast.enet_coordinate_descent(\n",
      "c:\\Users\\ACT\\AppData\\Local\\Programs\\Python\\Python310\\lib\\site-packages\\sklearn\\linear_model\\_coordinate_descent.py:647: ConvergenceWarning: Objective did not converge. You might want to increase the number of iterations, check the scale of the features or consider increasing regularisation. Duality gap: 2.619e+02, tolerance: 1.677e+01\n",
      "  model = cd_fast.enet_coordinate_descent(\n",
      "c:\\Users\\ACT\\AppData\\Local\\Programs\\Python\\Python310\\lib\\site-packages\\sklearn\\linear_model\\_coordinate_descent.py:647: ConvergenceWarning: Objective did not converge. You might want to increase the number of iterations, check the scale of the features or consider increasing regularisation. Duality gap: 2.541e+02, tolerance: 1.677e+01\n",
      "  model = cd_fast.enet_coordinate_descent(\n",
      "c:\\Users\\ACT\\AppData\\Local\\Programs\\Python\\Python310\\lib\\site-packages\\sklearn\\linear_model\\_coordinate_descent.py:647: ConvergenceWarning: Objective did not converge. You might want to increase the number of iterations, check the scale of the features or consider increasing regularisation. Duality gap: 2.471e+02, tolerance: 1.677e+01\n",
      "  model = cd_fast.enet_coordinate_descent(\n",
      "c:\\Users\\ACT\\AppData\\Local\\Programs\\Python\\Python310\\lib\\site-packages\\sklearn\\linear_model\\_coordinate_descent.py:647: ConvergenceWarning: Objective did not converge. You might want to increase the number of iterations, check the scale of the features or consider increasing regularisation. Duality gap: 2.405e+02, tolerance: 1.677e+01\n",
      "  model = cd_fast.enet_coordinate_descent(\n",
      "c:\\Users\\ACT\\AppData\\Local\\Programs\\Python\\Python310\\lib\\site-packages\\sklearn\\linear_model\\_coordinate_descent.py:647: ConvergenceWarning: Objective did not converge. You might want to increase the number of iterations, check the scale of the features or consider increasing regularisation. Duality gap: 2.345e+02, tolerance: 1.677e+01\n",
      "  model = cd_fast.enet_coordinate_descent(\n",
      "c:\\Users\\ACT\\AppData\\Local\\Programs\\Python\\Python310\\lib\\site-packages\\sklearn\\linear_model\\_coordinate_descent.py:647: ConvergenceWarning: Objective did not converge. You might want to increase the number of iterations, check the scale of the features or consider increasing regularisation. Duality gap: 2.289e+02, tolerance: 1.677e+01\n",
      "  model = cd_fast.enet_coordinate_descent(\n",
      "c:\\Users\\ACT\\AppData\\Local\\Programs\\Python\\Python310\\lib\\site-packages\\sklearn\\linear_model\\_coordinate_descent.py:647: ConvergenceWarning: Objective did not converge. You might want to increase the number of iterations, check the scale of the features or consider increasing regularisation. Duality gap: 2.238e+02, tolerance: 1.677e+01\n",
      "  model = cd_fast.enet_coordinate_descent(\n",
      "c:\\Users\\ACT\\AppData\\Local\\Programs\\Python\\Python310\\lib\\site-packages\\sklearn\\linear_model\\_coordinate_descent.py:647: ConvergenceWarning: Objective did not converge. You might want to increase the number of iterations, check the scale of the features or consider increasing regularisation. Duality gap: 2.189e+02, tolerance: 1.677e+01\n",
      "  model = cd_fast.enet_coordinate_descent(\n",
      "c:\\Users\\ACT\\AppData\\Local\\Programs\\Python\\Python310\\lib\\site-packages\\sklearn\\linear_model\\_coordinate_descent.py:647: ConvergenceWarning: Objective did not converge. You might want to increase the number of iterations, check the scale of the features or consider increasing regularisation. Duality gap: 2.144e+02, tolerance: 1.677e+01\n",
      "  model = cd_fast.enet_coordinate_descent(\n",
      "c:\\Users\\ACT\\AppData\\Local\\Programs\\Python\\Python310\\lib\\site-packages\\sklearn\\linear_model\\_coordinate_descent.py:647: ConvergenceWarning: Objective did not converge. You might want to increase the number of iterations, check the scale of the features or consider increasing regularisation. Duality gap: 2.101e+02, tolerance: 1.677e+01\n",
      "  model = cd_fast.enet_coordinate_descent(\n",
      "c:\\Users\\ACT\\AppData\\Local\\Programs\\Python\\Python310\\lib\\site-packages\\sklearn\\linear_model\\_coordinate_descent.py:647: ConvergenceWarning: Objective did not converge. You might want to increase the number of iterations, check the scale of the features or consider increasing regularisation. Duality gap: 2.061e+02, tolerance: 1.677e+01\n",
      "  model = cd_fast.enet_coordinate_descent(\n",
      "c:\\Users\\ACT\\AppData\\Local\\Programs\\Python\\Python310\\lib\\site-packages\\sklearn\\linear_model\\_coordinate_descent.py:647: ConvergenceWarning: Objective did not converge. You might want to increase the number of iterations, check the scale of the features or consider increasing regularisation. Duality gap: 2.023e+02, tolerance: 1.677e+01\n",
      "  model = cd_fast.enet_coordinate_descent(\n",
      "c:\\Users\\ACT\\AppData\\Local\\Programs\\Python\\Python310\\lib\\site-packages\\sklearn\\linear_model\\_coordinate_descent.py:647: ConvergenceWarning: Objective did not converge. You might want to increase the number of iterations, check the scale of the features or consider increasing regularisation. Duality gap: 7.795e+01, tolerance: 1.751e+01\n",
      "  model = cd_fast.enet_coordinate_descent(\n",
      "c:\\Users\\ACT\\AppData\\Local\\Programs\\Python\\Python310\\lib\\site-packages\\sklearn\\linear_model\\_coordinate_descent.py:647: ConvergenceWarning: Objective did not converge. You might want to increase the number of iterations, check the scale of the features or consider increasing regularisation. Duality gap: 2.145e+01, tolerance: 1.751e+01\n",
      "  model = cd_fast.enet_coordinate_descent(\n",
      "c:\\Users\\ACT\\AppData\\Local\\Programs\\Python\\Python310\\lib\\site-packages\\sklearn\\linear_model\\_coordinate_descent.py:647: ConvergenceWarning: Objective did not converge. You might want to increase the number of iterations, check the scale of the features or consider increasing regularisation. Duality gap: 6.775e+01, tolerance: 1.751e+01\n",
      "  model = cd_fast.enet_coordinate_descent(\n",
      "c:\\Users\\ACT\\AppData\\Local\\Programs\\Python\\Python310\\lib\\site-packages\\sklearn\\linear_model\\_coordinate_descent.py:647: ConvergenceWarning: Objective did not converge. You might want to increase the number of iterations, check the scale of the features or consider increasing regularisation. Duality gap: 3.892e+03, tolerance: 1.751e+01\n",
      "  model = cd_fast.enet_coordinate_descent(\n",
      "c:\\Users\\ACT\\AppData\\Local\\Programs\\Python\\Python310\\lib\\site-packages\\sklearn\\linear_model\\_coordinate_descent.py:647: ConvergenceWarning: Objective did not converge. You might want to increase the number of iterations, check the scale of the features or consider increasing regularisation. Duality gap: 2.482e+02, tolerance: 1.751e+01\n",
      "  model = cd_fast.enet_coordinate_descent(\n",
      "c:\\Users\\ACT\\AppData\\Local\\Programs\\Python\\Python310\\lib\\site-packages\\sklearn\\linear_model\\_coordinate_descent.py:647: ConvergenceWarning: Objective did not converge. You might want to increase the number of iterations, check the scale of the features or consider increasing regularisation. Duality gap: 3.474e+03, tolerance: 1.751e+01\n",
      "  model = cd_fast.enet_coordinate_descent(\n",
      "c:\\Users\\ACT\\AppData\\Local\\Programs\\Python\\Python310\\lib\\site-packages\\sklearn\\linear_model\\_coordinate_descent.py:647: ConvergenceWarning: Objective did not converge. You might want to increase the number of iterations, check the scale of the features or consider increasing regularisation. Duality gap: 3.325e+03, tolerance: 1.751e+01\n",
      "  model = cd_fast.enet_coordinate_descent(\n",
      "c:\\Users\\ACT\\AppData\\Local\\Programs\\Python\\Python310\\lib\\site-packages\\sklearn\\linear_model\\_coordinate_descent.py:647: ConvergenceWarning: Objective did not converge. You might want to increase the number of iterations, check the scale of the features or consider increasing regularisation. Duality gap: 2.766e+03, tolerance: 1.751e+01\n",
      "  model = cd_fast.enet_coordinate_descent(\n",
      "c:\\Users\\ACT\\AppData\\Local\\Programs\\Python\\Python310\\lib\\site-packages\\sklearn\\linear_model\\_coordinate_descent.py:647: ConvergenceWarning: Objective did not converge. You might want to increase the number of iterations, check the scale of the features or consider increasing regularisation. Duality gap: 2.533e+03, tolerance: 1.751e+01\n",
      "  model = cd_fast.enet_coordinate_descent(\n",
      "c:\\Users\\ACT\\AppData\\Local\\Programs\\Python\\Python310\\lib\\site-packages\\sklearn\\linear_model\\_coordinate_descent.py:647: ConvergenceWarning: Objective did not converge. You might want to increase the number of iterations, check the scale of the features or consider increasing regularisation. Duality gap: 2.182e+03, tolerance: 1.751e+01\n",
      "  model = cd_fast.enet_coordinate_descent(\n",
      "c:\\Users\\ACT\\AppData\\Local\\Programs\\Python\\Python310\\lib\\site-packages\\sklearn\\linear_model\\_coordinate_descent.py:647: ConvergenceWarning: Objective did not converge. You might want to increase the number of iterations, check the scale of the features or consider increasing regularisation. Duality gap: 1.878e+03, tolerance: 1.751e+01\n",
      "  model = cd_fast.enet_coordinate_descent(\n",
      "c:\\Users\\ACT\\AppData\\Local\\Programs\\Python\\Python310\\lib\\site-packages\\sklearn\\linear_model\\_coordinate_descent.py:647: ConvergenceWarning: Objective did not converge. You might want to increase the number of iterations, check the scale of the features or consider increasing regularisation. Duality gap: 1.653e+03, tolerance: 1.751e+01\n",
      "  model = cd_fast.enet_coordinate_descent(\n",
      "c:\\Users\\ACT\\AppData\\Local\\Programs\\Python\\Python310\\lib\\site-packages\\sklearn\\linear_model\\_coordinate_descent.py:647: ConvergenceWarning: Objective did not converge. You might want to increase the number of iterations, check the scale of the features or consider increasing regularisation. Duality gap: 1.466e+03, tolerance: 1.751e+01\n",
      "  model = cd_fast.enet_coordinate_descent(\n",
      "c:\\Users\\ACT\\AppData\\Local\\Programs\\Python\\Python310\\lib\\site-packages\\sklearn\\linear_model\\_coordinate_descent.py:647: ConvergenceWarning: Objective did not converge. You might want to increase the number of iterations, check the scale of the features or consider increasing regularisation. Duality gap: 1.322e+03, tolerance: 1.751e+01\n",
      "  model = cd_fast.enet_coordinate_descent(\n",
      "c:\\Users\\ACT\\AppData\\Local\\Programs\\Python\\Python310\\lib\\site-packages\\sklearn\\linear_model\\_coordinate_descent.py:647: ConvergenceWarning: Objective did not converge. You might want to increase the number of iterations, check the scale of the features or consider increasing regularisation. Duality gap: 1.203e+03, tolerance: 1.751e+01\n",
      "  model = cd_fast.enet_coordinate_descent(\n",
      "c:\\Users\\ACT\\AppData\\Local\\Programs\\Python\\Python310\\lib\\site-packages\\sklearn\\linear_model\\_coordinate_descent.py:647: ConvergenceWarning: Objective did not converge. You might want to increase the number of iterations, check the scale of the features or consider increasing regularisation. Duality gap: 1.106e+03, tolerance: 1.751e+01\n",
      "  model = cd_fast.enet_coordinate_descent(\n",
      "c:\\Users\\ACT\\AppData\\Local\\Programs\\Python\\Python310\\lib\\site-packages\\sklearn\\linear_model\\_coordinate_descent.py:647: ConvergenceWarning: Objective did not converge. You might want to increase the number of iterations, check the scale of the features or consider increasing regularisation. Duality gap: 1.024e+03, tolerance: 1.751e+01\n",
      "  model = cd_fast.enet_coordinate_descent(\n",
      "c:\\Users\\ACT\\AppData\\Local\\Programs\\Python\\Python310\\lib\\site-packages\\sklearn\\linear_model\\_coordinate_descent.py:647: ConvergenceWarning: Objective did not converge. You might want to increase the number of iterations, check the scale of the features or consider increasing regularisation. Duality gap: 9.545e+02, tolerance: 1.751e+01\n",
      "  model = cd_fast.enet_coordinate_descent(\n",
      "c:\\Users\\ACT\\AppData\\Local\\Programs\\Python\\Python310\\lib\\site-packages\\sklearn\\linear_model\\_coordinate_descent.py:647: ConvergenceWarning: Objective did not converge. You might want to increase the number of iterations, check the scale of the features or consider increasing regularisation. Duality gap: 8.921e+02, tolerance: 1.751e+01\n",
      "  model = cd_fast.enet_coordinate_descent(\n",
      "c:\\Users\\ACT\\AppData\\Local\\Programs\\Python\\Python310\\lib\\site-packages\\sklearn\\linear_model\\_coordinate_descent.py:647: ConvergenceWarning: Objective did not converge. You might want to increase the number of iterations, check the scale of the features or consider increasing regularisation. Duality gap: 8.368e+02, tolerance: 1.751e+01\n",
      "  model = cd_fast.enet_coordinate_descent(\n",
      "c:\\Users\\ACT\\AppData\\Local\\Programs\\Python\\Python310\\lib\\site-packages\\sklearn\\linear_model\\_coordinate_descent.py:647: ConvergenceWarning: Objective did not converge. You might want to increase the number of iterations, check the scale of the features or consider increasing regularisation. Duality gap: 7.878e+02, tolerance: 1.751e+01\n",
      "  model = cd_fast.enet_coordinate_descent(\n",
      "c:\\Users\\ACT\\AppData\\Local\\Programs\\Python\\Python310\\lib\\site-packages\\sklearn\\linear_model\\_coordinate_descent.py:647: ConvergenceWarning: Objective did not converge. You might want to increase the number of iterations, check the scale of the features or consider increasing regularisation. Duality gap: 7.420e+02, tolerance: 1.751e+01\n",
      "  model = cd_fast.enet_coordinate_descent(\n",
      "c:\\Users\\ACT\\AppData\\Local\\Programs\\Python\\Python310\\lib\\site-packages\\sklearn\\linear_model\\_coordinate_descent.py:647: ConvergenceWarning: Objective did not converge. You might want to increase the number of iterations, check the scale of the features or consider increasing regularisation. Duality gap: 6.992e+02, tolerance: 1.751e+01\n",
      "  model = cd_fast.enet_coordinate_descent(\n",
      "c:\\Users\\ACT\\AppData\\Local\\Programs\\Python\\Python310\\lib\\site-packages\\sklearn\\linear_model\\_coordinate_descent.py:647: ConvergenceWarning: Objective did not converge. You might want to increase the number of iterations, check the scale of the features or consider increasing regularisation. Duality gap: 6.556e+02, tolerance: 1.751e+01\n",
      "  model = cd_fast.enet_coordinate_descent(\n",
      "c:\\Users\\ACT\\AppData\\Local\\Programs\\Python\\Python310\\lib\\site-packages\\sklearn\\linear_model\\_coordinate_descent.py:647: ConvergenceWarning: Objective did not converge. You might want to increase the number of iterations, check the scale of the features or consider increasing regularisation. Duality gap: 6.120e+02, tolerance: 1.751e+01\n",
      "  model = cd_fast.enet_coordinate_descent(\n",
      "c:\\Users\\ACT\\AppData\\Local\\Programs\\Python\\Python310\\lib\\site-packages\\sklearn\\linear_model\\_coordinate_descent.py:647: ConvergenceWarning: Objective did not converge. You might want to increase the number of iterations, check the scale of the features or consider increasing regularisation. Duality gap: 5.692e+02, tolerance: 1.751e+01\n",
      "  model = cd_fast.enet_coordinate_descent(\n",
      "c:\\Users\\ACT\\AppData\\Local\\Programs\\Python\\Python310\\lib\\site-packages\\sklearn\\linear_model\\_coordinate_descent.py:647: ConvergenceWarning: Objective did not converge. You might want to increase the number of iterations, check the scale of the features or consider increasing regularisation. Duality gap: 5.285e+02, tolerance: 1.751e+01\n",
      "  model = cd_fast.enet_coordinate_descent(\n",
      "c:\\Users\\ACT\\AppData\\Local\\Programs\\Python\\Python310\\lib\\site-packages\\sklearn\\linear_model\\_coordinate_descent.py:647: ConvergenceWarning: Objective did not converge. You might want to increase the number of iterations, check the scale of the features or consider increasing regularisation. Duality gap: 4.926e+02, tolerance: 1.751e+01\n",
      "  model = cd_fast.enet_coordinate_descent(\n",
      "c:\\Users\\ACT\\AppData\\Local\\Programs\\Python\\Python310\\lib\\site-packages\\sklearn\\linear_model\\_coordinate_descent.py:647: ConvergenceWarning: Objective did not converge. You might want to increase the number of iterations, check the scale of the features or consider increasing regularisation. Duality gap: 4.603e+02, tolerance: 1.751e+01\n",
      "  model = cd_fast.enet_coordinate_descent(\n",
      "c:\\Users\\ACT\\AppData\\Local\\Programs\\Python\\Python310\\lib\\site-packages\\sklearn\\linear_model\\_coordinate_descent.py:647: ConvergenceWarning: Objective did not converge. You might want to increase the number of iterations, check the scale of the features or consider increasing regularisation. Duality gap: 4.315e+02, tolerance: 1.751e+01\n",
      "  model = cd_fast.enet_coordinate_descent(\n",
      "c:\\Users\\ACT\\AppData\\Local\\Programs\\Python\\Python310\\lib\\site-packages\\sklearn\\linear_model\\_coordinate_descent.py:647: ConvergenceWarning: Objective did not converge. You might want to increase the number of iterations, check the scale of the features or consider increasing regularisation. Duality gap: 4.067e+02, tolerance: 1.751e+01\n",
      "  model = cd_fast.enet_coordinate_descent(\n",
      "c:\\Users\\ACT\\AppData\\Local\\Programs\\Python\\Python310\\lib\\site-packages\\sklearn\\linear_model\\_coordinate_descent.py:647: ConvergenceWarning: Objective did not converge. You might want to increase the number of iterations, check the scale of the features or consider increasing regularisation. Duality gap: 3.852e+02, tolerance: 1.751e+01\n",
      "  model = cd_fast.enet_coordinate_descent(\n",
      "c:\\Users\\ACT\\AppData\\Local\\Programs\\Python\\Python310\\lib\\site-packages\\sklearn\\linear_model\\_coordinate_descent.py:647: ConvergenceWarning: Objective did not converge. You might want to increase the number of iterations, check the scale of the features or consider increasing regularisation. Duality gap: 3.668e+02, tolerance: 1.751e+01\n",
      "  model = cd_fast.enet_coordinate_descent(\n",
      "c:\\Users\\ACT\\AppData\\Local\\Programs\\Python\\Python310\\lib\\site-packages\\sklearn\\linear_model\\_coordinate_descent.py:647: ConvergenceWarning: Objective did not converge. You might want to increase the number of iterations, check the scale of the features or consider increasing regularisation. Duality gap: 3.509e+02, tolerance: 1.751e+01\n",
      "  model = cd_fast.enet_coordinate_descent(\n",
      "c:\\Users\\ACT\\AppData\\Local\\Programs\\Python\\Python310\\lib\\site-packages\\sklearn\\linear_model\\_coordinate_descent.py:647: ConvergenceWarning: Objective did not converge. You might want to increase the number of iterations, check the scale of the features or consider increasing regularisation. Duality gap: 3.371e+02, tolerance: 1.751e+01\n",
      "  model = cd_fast.enet_coordinate_descent(\n",
      "c:\\Users\\ACT\\AppData\\Local\\Programs\\Python\\Python310\\lib\\site-packages\\sklearn\\linear_model\\_coordinate_descent.py:647: ConvergenceWarning: Objective did not converge. You might want to increase the number of iterations, check the scale of the features or consider increasing regularisation. Duality gap: 3.252e+02, tolerance: 1.751e+01\n",
      "  model = cd_fast.enet_coordinate_descent(\n",
      "c:\\Users\\ACT\\AppData\\Local\\Programs\\Python\\Python310\\lib\\site-packages\\sklearn\\linear_model\\_coordinate_descent.py:647: ConvergenceWarning: Objective did not converge. You might want to increase the number of iterations, check the scale of the features or consider increasing regularisation. Duality gap: 3.150e+02, tolerance: 1.751e+01\n",
      "  model = cd_fast.enet_coordinate_descent(\n",
      "c:\\Users\\ACT\\AppData\\Local\\Programs\\Python\\Python310\\lib\\site-packages\\sklearn\\linear_model\\_coordinate_descent.py:647: ConvergenceWarning: Objective did not converge. You might want to increase the number of iterations, check the scale of the features or consider increasing regularisation. Duality gap: 3.060e+02, tolerance: 1.751e+01\n",
      "  model = cd_fast.enet_coordinate_descent(\n",
      "c:\\Users\\ACT\\AppData\\Local\\Programs\\Python\\Python310\\lib\\site-packages\\sklearn\\linear_model\\_coordinate_descent.py:647: ConvergenceWarning: Objective did not converge. You might want to increase the number of iterations, check the scale of the features or consider increasing regularisation. Duality gap: 2.980e+02, tolerance: 1.751e+01\n",
      "  model = cd_fast.enet_coordinate_descent(\n",
      "c:\\Users\\ACT\\AppData\\Local\\Programs\\Python\\Python310\\lib\\site-packages\\sklearn\\linear_model\\_coordinate_descent.py:647: ConvergenceWarning: Objective did not converge. You might want to increase the number of iterations, check the scale of the features or consider increasing regularisation. Duality gap: 2.909e+02, tolerance: 1.751e+01\n",
      "  model = cd_fast.enet_coordinate_descent(\n",
      "c:\\Users\\ACT\\AppData\\Local\\Programs\\Python\\Python310\\lib\\site-packages\\sklearn\\linear_model\\_coordinate_descent.py:647: ConvergenceWarning: Objective did not converge. You might want to increase the number of iterations, check the scale of the features or consider increasing regularisation. Duality gap: 2.844e+02, tolerance: 1.751e+01\n",
      "  model = cd_fast.enet_coordinate_descent(\n",
      "c:\\Users\\ACT\\AppData\\Local\\Programs\\Python\\Python310\\lib\\site-packages\\sklearn\\linear_model\\_coordinate_descent.py:647: ConvergenceWarning: Objective did not converge. You might want to increase the number of iterations, check the scale of the features or consider increasing regularisation. Duality gap: 2.784e+02, tolerance: 1.751e+01\n",
      "  model = cd_fast.enet_coordinate_descent(\n",
      "c:\\Users\\ACT\\AppData\\Local\\Programs\\Python\\Python310\\lib\\site-packages\\sklearn\\linear_model\\_coordinate_descent.py:647: ConvergenceWarning: Objective did not converge. You might want to increase the number of iterations, check the scale of the features or consider increasing regularisation. Duality gap: 2.729e+02, tolerance: 1.751e+01\n",
      "  model = cd_fast.enet_coordinate_descent(\n",
      "c:\\Users\\ACT\\AppData\\Local\\Programs\\Python\\Python310\\lib\\site-packages\\sklearn\\linear_model\\_coordinate_descent.py:647: ConvergenceWarning: Objective did not converge. You might want to increase the number of iterations, check the scale of the features or consider increasing regularisation. Duality gap: 2.678e+02, tolerance: 1.751e+01\n",
      "  model = cd_fast.enet_coordinate_descent(\n",
      "c:\\Users\\ACT\\AppData\\Local\\Programs\\Python\\Python310\\lib\\site-packages\\sklearn\\linear_model\\_coordinate_descent.py:647: ConvergenceWarning: Objective did not converge. You might want to increase the number of iterations, check the scale of the features or consider increasing regularisation. Duality gap: 2.632e+02, tolerance: 1.751e+01\n",
      "  model = cd_fast.enet_coordinate_descent(\n",
      "c:\\Users\\ACT\\AppData\\Local\\Programs\\Python\\Python310\\lib\\site-packages\\sklearn\\linear_model\\_coordinate_descent.py:647: ConvergenceWarning: Objective did not converge. You might want to increase the number of iterations, check the scale of the features or consider increasing regularisation. Duality gap: 2.588e+02, tolerance: 1.751e+01\n",
      "  model = cd_fast.enet_coordinate_descent(\n",
      "c:\\Users\\ACT\\AppData\\Local\\Programs\\Python\\Python310\\lib\\site-packages\\sklearn\\linear_model\\_coordinate_descent.py:647: ConvergenceWarning: Objective did not converge. You might want to increase the number of iterations, check the scale of the features or consider increasing regularisation. Duality gap: 2.548e+02, tolerance: 1.751e+01\n",
      "  model = cd_fast.enet_coordinate_descent(\n",
      "c:\\Users\\ACT\\AppData\\Local\\Programs\\Python\\Python310\\lib\\site-packages\\sklearn\\linear_model\\_coordinate_descent.py:647: ConvergenceWarning: Objective did not converge. You might want to increase the number of iterations, check the scale of the features or consider increasing regularisation. Duality gap: 2.510e+02, tolerance: 1.751e+01\n",
      "  model = cd_fast.enet_coordinate_descent(\n",
      "c:\\Users\\ACT\\AppData\\Local\\Programs\\Python\\Python310\\lib\\site-packages\\sklearn\\linear_model\\_coordinate_descent.py:647: ConvergenceWarning: Objective did not converge. You might want to increase the number of iterations, check the scale of the features or consider increasing regularisation. Duality gap: 2.474e+02, tolerance: 1.751e+01\n",
      "  model = cd_fast.enet_coordinate_descent(\n",
      "c:\\Users\\ACT\\AppData\\Local\\Programs\\Python\\Python310\\lib\\site-packages\\sklearn\\linear_model\\_coordinate_descent.py:647: ConvergenceWarning: Objective did not converge. You might want to increase the number of iterations, check the scale of the features or consider increasing regularisation. Duality gap: 2.440e+02, tolerance: 1.751e+01\n",
      "  model = cd_fast.enet_coordinate_descent(\n",
      "c:\\Users\\ACT\\AppData\\Local\\Programs\\Python\\Python310\\lib\\site-packages\\sklearn\\linear_model\\_coordinate_descent.py:647: ConvergenceWarning: Objective did not converge. You might want to increase the number of iterations, check the scale of the features or consider increasing regularisation. Duality gap: 3.503e+01, tolerance: 1.766e+01\n",
      "  model = cd_fast.enet_coordinate_descent(\n",
      "c:\\Users\\ACT\\AppData\\Local\\Programs\\Python\\Python310\\lib\\site-packages\\sklearn\\linear_model\\_coordinate_descent.py:647: ConvergenceWarning: Objective did not converge. You might want to increase the number of iterations, check the scale of the features or consider increasing regularisation. Duality gap: 5.539e+01, tolerance: 1.766e+01\n",
      "  model = cd_fast.enet_coordinate_descent(\n",
      "c:\\Users\\ACT\\AppData\\Local\\Programs\\Python\\Python310\\lib\\site-packages\\sklearn\\linear_model\\_coordinate_descent.py:647: ConvergenceWarning: Objective did not converge. You might want to increase the number of iterations, check the scale of the features or consider increasing regularisation. Duality gap: 9.912e+01, tolerance: 1.766e+01\n",
      "  model = cd_fast.enet_coordinate_descent(\n",
      "c:\\Users\\ACT\\AppData\\Local\\Programs\\Python\\Python310\\lib\\site-packages\\sklearn\\linear_model\\_coordinate_descent.py:647: ConvergenceWarning: Objective did not converge. You might want to increase the number of iterations, check the scale of the features or consider increasing regularisation. Duality gap: 3.700e+03, tolerance: 1.766e+01\n",
      "  model = cd_fast.enet_coordinate_descent(\n",
      "c:\\Users\\ACT\\AppData\\Local\\Programs\\Python\\Python310\\lib\\site-packages\\sklearn\\linear_model\\_coordinate_descent.py:647: ConvergenceWarning: Objective did not converge. You might want to increase the number of iterations, check the scale of the features or consider increasing regularisation. Duality gap: 1.884e+03, tolerance: 1.766e+01\n",
      "  model = cd_fast.enet_coordinate_descent(\n",
      "c:\\Users\\ACT\\AppData\\Local\\Programs\\Python\\Python310\\lib\\site-packages\\sklearn\\linear_model\\_coordinate_descent.py:647: ConvergenceWarning: Objective did not converge. You might want to increase the number of iterations, check the scale of the features or consider increasing regularisation. Duality gap: 3.851e+03, tolerance: 1.766e+01\n",
      "  model = cd_fast.enet_coordinate_descent(\n",
      "c:\\Users\\ACT\\AppData\\Local\\Programs\\Python\\Python310\\lib\\site-packages\\sklearn\\linear_model\\_coordinate_descent.py:647: ConvergenceWarning: Objective did not converge. You might want to increase the number of iterations, check the scale of the features or consider increasing regularisation. Duality gap: 3.441e+03, tolerance: 1.766e+01\n",
      "  model = cd_fast.enet_coordinate_descent(\n",
      "c:\\Users\\ACT\\AppData\\Local\\Programs\\Python\\Python310\\lib\\site-packages\\sklearn\\linear_model\\_coordinate_descent.py:647: ConvergenceWarning: Objective did not converge. You might want to increase the number of iterations, check the scale of the features or consider increasing regularisation. Duality gap: 3.011e+03, tolerance: 1.766e+01\n",
      "  model = cd_fast.enet_coordinate_descent(\n",
      "c:\\Users\\ACT\\AppData\\Local\\Programs\\Python\\Python310\\lib\\site-packages\\sklearn\\linear_model\\_coordinate_descent.py:647: ConvergenceWarning: Objective did not converge. You might want to increase the number of iterations, check the scale of the features or consider increasing regularisation. Duality gap: 2.723e+03, tolerance: 1.766e+01\n",
      "  model = cd_fast.enet_coordinate_descent(\n",
      "c:\\Users\\ACT\\AppData\\Local\\Programs\\Python\\Python310\\lib\\site-packages\\sklearn\\linear_model\\_coordinate_descent.py:647: ConvergenceWarning: Objective did not converge. You might want to increase the number of iterations, check the scale of the features or consider increasing regularisation. Duality gap: 2.394e+03, tolerance: 1.766e+01\n",
      "  model = cd_fast.enet_coordinate_descent(\n",
      "c:\\Users\\ACT\\AppData\\Local\\Programs\\Python\\Python310\\lib\\site-packages\\sklearn\\linear_model\\_coordinate_descent.py:647: ConvergenceWarning: Objective did not converge. You might want to increase the number of iterations, check the scale of the features or consider increasing regularisation. Duality gap: 2.080e+03, tolerance: 1.766e+01\n",
      "  model = cd_fast.enet_coordinate_descent(\n",
      "c:\\Users\\ACT\\AppData\\Local\\Programs\\Python\\Python310\\lib\\site-packages\\sklearn\\linear_model\\_coordinate_descent.py:647: ConvergenceWarning: Objective did not converge. You might want to increase the number of iterations, check the scale of the features or consider increasing regularisation. Duality gap: 1.807e+03, tolerance: 1.766e+01\n",
      "  model = cd_fast.enet_coordinate_descent(\n",
      "c:\\Users\\ACT\\AppData\\Local\\Programs\\Python\\Python310\\lib\\site-packages\\sklearn\\linear_model\\_coordinate_descent.py:647: ConvergenceWarning: Objective did not converge. You might want to increase the number of iterations, check the scale of the features or consider increasing regularisation. Duality gap: 1.561e+03, tolerance: 1.766e+01\n",
      "  model = cd_fast.enet_coordinate_descent(\n",
      "c:\\Users\\ACT\\AppData\\Local\\Programs\\Python\\Python310\\lib\\site-packages\\sklearn\\linear_model\\_coordinate_descent.py:647: ConvergenceWarning: Objective did not converge. You might want to increase the number of iterations, check the scale of the features or consider increasing regularisation. Duality gap: 1.375e+03, tolerance: 1.766e+01\n",
      "  model = cd_fast.enet_coordinate_descent(\n",
      "c:\\Users\\ACT\\AppData\\Local\\Programs\\Python\\Python310\\lib\\site-packages\\sklearn\\linear_model\\_coordinate_descent.py:647: ConvergenceWarning: Objective did not converge. You might want to increase the number of iterations, check the scale of the features or consider increasing regularisation. Duality gap: 1.245e+03, tolerance: 1.766e+01\n",
      "  model = cd_fast.enet_coordinate_descent(\n",
      "c:\\Users\\ACT\\AppData\\Local\\Programs\\Python\\Python310\\lib\\site-packages\\sklearn\\linear_model\\_coordinate_descent.py:647: ConvergenceWarning: Objective did not converge. You might want to increase the number of iterations, check the scale of the features or consider increasing regularisation. Duality gap: 1.151e+03, tolerance: 1.766e+01\n",
      "  model = cd_fast.enet_coordinate_descent(\n",
      "c:\\Users\\ACT\\AppData\\Local\\Programs\\Python\\Python310\\lib\\site-packages\\sklearn\\linear_model\\_coordinate_descent.py:647: ConvergenceWarning: Objective did not converge. You might want to increase the number of iterations, check the scale of the features or consider increasing regularisation. Duality gap: 1.078e+03, tolerance: 1.766e+01\n",
      "  model = cd_fast.enet_coordinate_descent(\n",
      "c:\\Users\\ACT\\AppData\\Local\\Programs\\Python\\Python310\\lib\\site-packages\\sklearn\\linear_model\\_coordinate_descent.py:647: ConvergenceWarning: Objective did not converge. You might want to increase the number of iterations, check the scale of the features or consider increasing regularisation. Duality gap: 1.007e+03, tolerance: 1.766e+01\n",
      "  model = cd_fast.enet_coordinate_descent(\n",
      "c:\\Users\\ACT\\AppData\\Local\\Programs\\Python\\Python310\\lib\\site-packages\\sklearn\\linear_model\\_coordinate_descent.py:647: ConvergenceWarning: Objective did not converge. You might want to increase the number of iterations, check the scale of the features or consider increasing regularisation. Duality gap: 9.342e+02, tolerance: 1.766e+01\n",
      "  model = cd_fast.enet_coordinate_descent(\n",
      "c:\\Users\\ACT\\AppData\\Local\\Programs\\Python\\Python310\\lib\\site-packages\\sklearn\\linear_model\\_coordinate_descent.py:647: ConvergenceWarning: Objective did not converge. You might want to increase the number of iterations, check the scale of the features or consider increasing regularisation. Duality gap: 8.518e+02, tolerance: 1.766e+01\n",
      "  model = cd_fast.enet_coordinate_descent(\n",
      "c:\\Users\\ACT\\AppData\\Local\\Programs\\Python\\Python310\\lib\\site-packages\\sklearn\\linear_model\\_coordinate_descent.py:647: ConvergenceWarning: Objective did not converge. You might want to increase the number of iterations, check the scale of the features or consider increasing regularisation. Duality gap: 7.677e+02, tolerance: 1.766e+01\n",
      "  model = cd_fast.enet_coordinate_descent(\n",
      "c:\\Users\\ACT\\AppData\\Local\\Programs\\Python\\Python310\\lib\\site-packages\\sklearn\\linear_model\\_coordinate_descent.py:647: ConvergenceWarning: Objective did not converge. You might want to increase the number of iterations, check the scale of the features or consider increasing regularisation. Duality gap: 6.949e+02, tolerance: 1.766e+01\n",
      "  model = cd_fast.enet_coordinate_descent(\n",
      "c:\\Users\\ACT\\AppData\\Local\\Programs\\Python\\Python310\\lib\\site-packages\\sklearn\\linear_model\\_coordinate_descent.py:647: ConvergenceWarning: Objective did not converge. You might want to increase the number of iterations, check the scale of the features or consider increasing regularisation. Duality gap: 6.321e+02, tolerance: 1.766e+01\n",
      "  model = cd_fast.enet_coordinate_descent(\n",
      "c:\\Users\\ACT\\AppData\\Local\\Programs\\Python\\Python310\\lib\\site-packages\\sklearn\\linear_model\\_coordinate_descent.py:647: ConvergenceWarning: Objective did not converge. You might want to increase the number of iterations, check the scale of the features or consider increasing regularisation. Duality gap: 5.766e+02, tolerance: 1.766e+01\n",
      "  model = cd_fast.enet_coordinate_descent(\n",
      "c:\\Users\\ACT\\AppData\\Local\\Programs\\Python\\Python310\\lib\\site-packages\\sklearn\\linear_model\\_coordinate_descent.py:647: ConvergenceWarning: Objective did not converge. You might want to increase the number of iterations, check the scale of the features or consider increasing regularisation. Duality gap: 5.270e+02, tolerance: 1.766e+01\n",
      "  model = cd_fast.enet_coordinate_descent(\n",
      "c:\\Users\\ACT\\AppData\\Local\\Programs\\Python\\Python310\\lib\\site-packages\\sklearn\\linear_model\\_coordinate_descent.py:647: ConvergenceWarning: Objective did not converge. You might want to increase the number of iterations, check the scale of the features or consider increasing regularisation. Duality gap: 4.825e+02, tolerance: 1.766e+01\n",
      "  model = cd_fast.enet_coordinate_descent(\n",
      "c:\\Users\\ACT\\AppData\\Local\\Programs\\Python\\Python310\\lib\\site-packages\\sklearn\\linear_model\\_coordinate_descent.py:647: ConvergenceWarning: Objective did not converge. You might want to increase the number of iterations, check the scale of the features or consider increasing regularisation. Duality gap: 4.416e+02, tolerance: 1.766e+01\n",
      "  model = cd_fast.enet_coordinate_descent(\n",
      "c:\\Users\\ACT\\AppData\\Local\\Programs\\Python\\Python310\\lib\\site-packages\\sklearn\\linear_model\\_coordinate_descent.py:647: ConvergenceWarning: Objective did not converge. You might want to increase the number of iterations, check the scale of the features or consider increasing regularisation. Duality gap: 4.060e+02, tolerance: 1.766e+01\n",
      "  model = cd_fast.enet_coordinate_descent(\n",
      "c:\\Users\\ACT\\AppData\\Local\\Programs\\Python\\Python310\\lib\\site-packages\\sklearn\\linear_model\\_coordinate_descent.py:647: ConvergenceWarning: Objective did not converge. You might want to increase the number of iterations, check the scale of the features or consider increasing regularisation. Duality gap: 3.751e+02, tolerance: 1.766e+01\n",
      "  model = cd_fast.enet_coordinate_descent(\n",
      "c:\\Users\\ACT\\AppData\\Local\\Programs\\Python\\Python310\\lib\\site-packages\\sklearn\\linear_model\\_coordinate_descent.py:647: ConvergenceWarning: Objective did not converge. You might want to increase the number of iterations, check the scale of the features or consider increasing regularisation. Duality gap: 3.496e+02, tolerance: 1.766e+01\n",
      "  model = cd_fast.enet_coordinate_descent(\n",
      "c:\\Users\\ACT\\AppData\\Local\\Programs\\Python\\Python310\\lib\\site-packages\\sklearn\\linear_model\\_coordinate_descent.py:647: ConvergenceWarning: Objective did not converge. You might want to increase the number of iterations, check the scale of the features or consider increasing regularisation. Duality gap: 3.294e+02, tolerance: 1.766e+01\n",
      "  model = cd_fast.enet_coordinate_descent(\n",
      "c:\\Users\\ACT\\AppData\\Local\\Programs\\Python\\Python310\\lib\\site-packages\\sklearn\\linear_model\\_coordinate_descent.py:647: ConvergenceWarning: Objective did not converge. You might want to increase the number of iterations, check the scale of the features or consider increasing regularisation. Duality gap: 3.133e+02, tolerance: 1.766e+01\n",
      "  model = cd_fast.enet_coordinate_descent(\n",
      "c:\\Users\\ACT\\AppData\\Local\\Programs\\Python\\Python310\\lib\\site-packages\\sklearn\\linear_model\\_coordinate_descent.py:647: ConvergenceWarning: Objective did not converge. You might want to increase the number of iterations, check the scale of the features or consider increasing regularisation. Duality gap: 2.997e+02, tolerance: 1.766e+01\n",
      "  model = cd_fast.enet_coordinate_descent(\n",
      "c:\\Users\\ACT\\AppData\\Local\\Programs\\Python\\Python310\\lib\\site-packages\\sklearn\\linear_model\\_coordinate_descent.py:647: ConvergenceWarning: Objective did not converge. You might want to increase the number of iterations, check the scale of the features or consider increasing regularisation. Duality gap: 2.876e+02, tolerance: 1.766e+01\n",
      "  model = cd_fast.enet_coordinate_descent(\n",
      "c:\\Users\\ACT\\AppData\\Local\\Programs\\Python\\Python310\\lib\\site-packages\\sklearn\\linear_model\\_coordinate_descent.py:647: ConvergenceWarning: Objective did not converge. You might want to increase the number of iterations, check the scale of the features or consider increasing regularisation. Duality gap: 2.769e+02, tolerance: 1.766e+01\n",
      "  model = cd_fast.enet_coordinate_descent(\n",
      "c:\\Users\\ACT\\AppData\\Local\\Programs\\Python\\Python310\\lib\\site-packages\\sklearn\\linear_model\\_coordinate_descent.py:647: ConvergenceWarning: Objective did not converge. You might want to increase the number of iterations, check the scale of the features or consider increasing regularisation. Duality gap: 2.676e+02, tolerance: 1.766e+01\n",
      "  model = cd_fast.enet_coordinate_descent(\n",
      "c:\\Users\\ACT\\AppData\\Local\\Programs\\Python\\Python310\\lib\\site-packages\\sklearn\\linear_model\\_coordinate_descent.py:647: ConvergenceWarning: Objective did not converge. You might want to increase the number of iterations, check the scale of the features or consider increasing regularisation. Duality gap: 2.593e+02, tolerance: 1.766e+01\n",
      "  model = cd_fast.enet_coordinate_descent(\n",
      "c:\\Users\\ACT\\AppData\\Local\\Programs\\Python\\Python310\\lib\\site-packages\\sklearn\\linear_model\\_coordinate_descent.py:647: ConvergenceWarning: Objective did not converge. You might want to increase the number of iterations, check the scale of the features or consider increasing regularisation. Duality gap: 2.517e+02, tolerance: 1.766e+01\n",
      "  model = cd_fast.enet_coordinate_descent(\n",
      "c:\\Users\\ACT\\AppData\\Local\\Programs\\Python\\Python310\\lib\\site-packages\\sklearn\\linear_model\\_coordinate_descent.py:647: ConvergenceWarning: Objective did not converge. You might want to increase the number of iterations, check the scale of the features or consider increasing regularisation. Duality gap: 2.449e+02, tolerance: 1.766e+01\n",
      "  model = cd_fast.enet_coordinate_descent(\n",
      "c:\\Users\\ACT\\AppData\\Local\\Programs\\Python\\Python310\\lib\\site-packages\\sklearn\\linear_model\\_coordinate_descent.py:647: ConvergenceWarning: Objective did not converge. You might want to increase the number of iterations, check the scale of the features or consider increasing regularisation. Duality gap: 2.387e+02, tolerance: 1.766e+01\n",
      "  model = cd_fast.enet_coordinate_descent(\n",
      "c:\\Users\\ACT\\AppData\\Local\\Programs\\Python\\Python310\\lib\\site-packages\\sklearn\\linear_model\\_coordinate_descent.py:647: ConvergenceWarning: Objective did not converge. You might want to increase the number of iterations, check the scale of the features or consider increasing regularisation. Duality gap: 2.331e+02, tolerance: 1.766e+01\n",
      "  model = cd_fast.enet_coordinate_descent(\n",
      "c:\\Users\\ACT\\AppData\\Local\\Programs\\Python\\Python310\\lib\\site-packages\\sklearn\\linear_model\\_coordinate_descent.py:647: ConvergenceWarning: Objective did not converge. You might want to increase the number of iterations, check the scale of the features or consider increasing regularisation. Duality gap: 2.280e+02, tolerance: 1.766e+01\n",
      "  model = cd_fast.enet_coordinate_descent(\n",
      "c:\\Users\\ACT\\AppData\\Local\\Programs\\Python\\Python310\\lib\\site-packages\\sklearn\\linear_model\\_coordinate_descent.py:647: ConvergenceWarning: Objective did not converge. You might want to increase the number of iterations, check the scale of the features or consider increasing regularisation. Duality gap: 2.232e+02, tolerance: 1.766e+01\n",
      "  model = cd_fast.enet_coordinate_descent(\n",
      "c:\\Users\\ACT\\AppData\\Local\\Programs\\Python\\Python310\\lib\\site-packages\\sklearn\\linear_model\\_coordinate_descent.py:647: ConvergenceWarning: Objective did not converge. You might want to increase the number of iterations, check the scale of the features or consider increasing regularisation. Duality gap: 2.189e+02, tolerance: 1.766e+01\n",
      "  model = cd_fast.enet_coordinate_descent(\n",
      "c:\\Users\\ACT\\AppData\\Local\\Programs\\Python\\Python310\\lib\\site-packages\\sklearn\\linear_model\\_coordinate_descent.py:647: ConvergenceWarning: Objective did not converge. You might want to increase the number of iterations, check the scale of the features or consider increasing regularisation. Duality gap: 2.148e+02, tolerance: 1.766e+01\n",
      "  model = cd_fast.enet_coordinate_descent(\n",
      "c:\\Users\\ACT\\AppData\\Local\\Programs\\Python\\Python310\\lib\\site-packages\\sklearn\\linear_model\\_coordinate_descent.py:647: ConvergenceWarning: Objective did not converge. You might want to increase the number of iterations, check the scale of the features or consider increasing regularisation. Duality gap: 2.111e+02, tolerance: 1.766e+01\n",
      "  model = cd_fast.enet_coordinate_descent(\n",
      "c:\\Users\\ACT\\AppData\\Local\\Programs\\Python\\Python310\\lib\\site-packages\\sklearn\\linear_model\\_coordinate_descent.py:647: ConvergenceWarning: Objective did not converge. You might want to increase the number of iterations, check the scale of the features or consider increasing regularisation. Duality gap: 2.076e+02, tolerance: 1.766e+01\n",
      "  model = cd_fast.enet_coordinate_descent(\n",
      "c:\\Users\\ACT\\AppData\\Local\\Programs\\Python\\Python310\\lib\\site-packages\\sklearn\\linear_model\\_coordinate_descent.py:647: ConvergenceWarning: Objective did not converge. You might want to increase the number of iterations, check the scale of the features or consider increasing regularisation. Duality gap: 2.043e+02, tolerance: 1.766e+01\n",
      "  model = cd_fast.enet_coordinate_descent(\n",
      "c:\\Users\\ACT\\AppData\\Local\\Programs\\Python\\Python310\\lib\\site-packages\\sklearn\\linear_model\\_coordinate_descent.py:647: ConvergenceWarning: Objective did not converge. You might want to increase the number of iterations, check the scale of the features or consider increasing regularisation. Duality gap: 2.012e+02, tolerance: 1.766e+01\n",
      "  model = cd_fast.enet_coordinate_descent(\n",
      "c:\\Users\\ACT\\AppData\\Local\\Programs\\Python\\Python310\\lib\\site-packages\\sklearn\\linear_model\\_coordinate_descent.py:647: ConvergenceWarning: Objective did not converge. You might want to increase the number of iterations, check the scale of the features or consider increasing regularisation. Duality gap: 1.983e+02, tolerance: 1.766e+01\n",
      "  model = cd_fast.enet_coordinate_descent(\n",
      "c:\\Users\\ACT\\AppData\\Local\\Programs\\Python\\Python310\\lib\\site-packages\\sklearn\\linear_model\\_coordinate_descent.py:647: ConvergenceWarning: Objective did not converge. You might want to increase the number of iterations, check the scale of the features or consider increasing regularisation. Duality gap: 3.282e+01, tolerance: 1.771e+01\n",
      "  model = cd_fast.enet_coordinate_descent(\n",
      "c:\\Users\\ACT\\AppData\\Local\\Programs\\Python\\Python310\\lib\\site-packages\\sklearn\\linear_model\\_coordinate_descent.py:647: ConvergenceWarning: Objective did not converge. You might want to increase the number of iterations, check the scale of the features or consider increasing regularisation. Duality gap: 1.060e+02, tolerance: 1.771e+01\n",
      "  model = cd_fast.enet_coordinate_descent(\n",
      "c:\\Users\\ACT\\AppData\\Local\\Programs\\Python\\Python310\\lib\\site-packages\\sklearn\\linear_model\\_coordinate_descent.py:647: ConvergenceWarning: Objective did not converge. You might want to increase the number of iterations, check the scale of the features or consider increasing regularisation. Duality gap: 1.093e+03, tolerance: 1.771e+01\n",
      "  model = cd_fast.enet_coordinate_descent(\n",
      "c:\\Users\\ACT\\AppData\\Local\\Programs\\Python\\Python310\\lib\\site-packages\\sklearn\\linear_model\\_coordinate_descent.py:647: ConvergenceWarning: Objective did not converge. You might want to increase the number of iterations, check the scale of the features or consider increasing regularisation. Duality gap: 2.861e+03, tolerance: 1.771e+01\n",
      "  model = cd_fast.enet_coordinate_descent(\n",
      "c:\\Users\\ACT\\AppData\\Local\\Programs\\Python\\Python310\\lib\\site-packages\\sklearn\\linear_model\\_coordinate_descent.py:647: ConvergenceWarning: Objective did not converge. You might want to increase the number of iterations, check the scale of the features or consider increasing regularisation. Duality gap: 3.871e+03, tolerance: 1.771e+01\n",
      "  model = cd_fast.enet_coordinate_descent(\n",
      "c:\\Users\\ACT\\AppData\\Local\\Programs\\Python\\Python310\\lib\\site-packages\\sklearn\\linear_model\\_coordinate_descent.py:647: ConvergenceWarning: Objective did not converge. You might want to increase the number of iterations, check the scale of the features or consider increasing regularisation. Duality gap: 3.517e+03, tolerance: 1.771e+01\n",
      "  model = cd_fast.enet_coordinate_descent(\n",
      "c:\\Users\\ACT\\AppData\\Local\\Programs\\Python\\Python310\\lib\\site-packages\\sklearn\\linear_model\\_coordinate_descent.py:647: ConvergenceWarning: Objective did not converge. You might want to increase the number of iterations, check the scale of the features or consider increasing regularisation. Duality gap: 3.018e+03, tolerance: 1.771e+01\n",
      "  model = cd_fast.enet_coordinate_descent(\n",
      "c:\\Users\\ACT\\AppData\\Local\\Programs\\Python\\Python310\\lib\\site-packages\\sklearn\\linear_model\\_coordinate_descent.py:647: ConvergenceWarning: Objective did not converge. You might want to increase the number of iterations, check the scale of the features or consider increasing regularisation. Duality gap: 2.730e+03, tolerance: 1.771e+01\n",
      "  model = cd_fast.enet_coordinate_descent(\n",
      "c:\\Users\\ACT\\AppData\\Local\\Programs\\Python\\Python310\\lib\\site-packages\\sklearn\\linear_model\\_coordinate_descent.py:647: ConvergenceWarning: Objective did not converge. You might want to increase the number of iterations, check the scale of the features or consider increasing regularisation. Duality gap: 2.430e+03, tolerance: 1.771e+01\n",
      "  model = cd_fast.enet_coordinate_descent(\n",
      "c:\\Users\\ACT\\AppData\\Local\\Programs\\Python\\Python310\\lib\\site-packages\\sklearn\\linear_model\\_coordinate_descent.py:647: ConvergenceWarning: Objective did not converge. You might want to increase the number of iterations, check the scale of the features or consider increasing regularisation. Duality gap: 2.171e+03, tolerance: 1.771e+01\n",
      "  model = cd_fast.enet_coordinate_descent(\n",
      "c:\\Users\\ACT\\AppData\\Local\\Programs\\Python\\Python310\\lib\\site-packages\\sklearn\\linear_model\\_coordinate_descent.py:647: ConvergenceWarning: Objective did not converge. You might want to increase the number of iterations, check the scale of the features or consider increasing regularisation. Duality gap: 1.918e+03, tolerance: 1.771e+01\n",
      "  model = cd_fast.enet_coordinate_descent(\n",
      "c:\\Users\\ACT\\AppData\\Local\\Programs\\Python\\Python310\\lib\\site-packages\\sklearn\\linear_model\\_coordinate_descent.py:647: ConvergenceWarning: Objective did not converge. You might want to increase the number of iterations, check the scale of the features or consider increasing regularisation. Duality gap: 1.707e+03, tolerance: 1.771e+01\n",
      "  model = cd_fast.enet_coordinate_descent(\n",
      "c:\\Users\\ACT\\AppData\\Local\\Programs\\Python\\Python310\\lib\\site-packages\\sklearn\\linear_model\\_coordinate_descent.py:647: ConvergenceWarning: Objective did not converge. You might want to increase the number of iterations, check the scale of the features or consider increasing regularisation. Duality gap: 1.537e+03, tolerance: 1.771e+01\n",
      "  model = cd_fast.enet_coordinate_descent(\n",
      "c:\\Users\\ACT\\AppData\\Local\\Programs\\Python\\Python310\\lib\\site-packages\\sklearn\\linear_model\\_coordinate_descent.py:647: ConvergenceWarning: Objective did not converge. You might want to increase the number of iterations, check the scale of the features or consider increasing regularisation. Duality gap: 1.403e+03, tolerance: 1.771e+01\n",
      "  model = cd_fast.enet_coordinate_descent(\n",
      "c:\\Users\\ACT\\AppData\\Local\\Programs\\Python\\Python310\\lib\\site-packages\\sklearn\\linear_model\\_coordinate_descent.py:647: ConvergenceWarning: Objective did not converge. You might want to increase the number of iterations, check the scale of the features or consider increasing regularisation. Duality gap: 1.296e+03, tolerance: 1.771e+01\n",
      "  model = cd_fast.enet_coordinate_descent(\n",
      "c:\\Users\\ACT\\AppData\\Local\\Programs\\Python\\Python310\\lib\\site-packages\\sklearn\\linear_model\\_coordinate_descent.py:647: ConvergenceWarning: Objective did not converge. You might want to increase the number of iterations, check the scale of the features or consider increasing regularisation. Duality gap: 1.197e+03, tolerance: 1.771e+01\n",
      "  model = cd_fast.enet_coordinate_descent(\n",
      "c:\\Users\\ACT\\AppData\\Local\\Programs\\Python\\Python310\\lib\\site-packages\\sklearn\\linear_model\\_coordinate_descent.py:647: ConvergenceWarning: Objective did not converge. You might want to increase the number of iterations, check the scale of the features or consider increasing regularisation. Duality gap: 1.090e+03, tolerance: 1.771e+01\n",
      "  model = cd_fast.enet_coordinate_descent(\n",
      "c:\\Users\\ACT\\AppData\\Local\\Programs\\Python\\Python310\\lib\\site-packages\\sklearn\\linear_model\\_coordinate_descent.py:647: ConvergenceWarning: Objective did not converge. You might want to increase the number of iterations, check the scale of the features or consider increasing regularisation. Duality gap: 9.984e+02, tolerance: 1.771e+01\n",
      "  model = cd_fast.enet_coordinate_descent(\n",
      "c:\\Users\\ACT\\AppData\\Local\\Programs\\Python\\Python310\\lib\\site-packages\\sklearn\\linear_model\\_coordinate_descent.py:647: ConvergenceWarning: Objective did not converge. You might want to increase the number of iterations, check the scale of the features or consider increasing regularisation. Duality gap: 9.116e+02, tolerance: 1.771e+01\n",
      "  model = cd_fast.enet_coordinate_descent(\n",
      "c:\\Users\\ACT\\AppData\\Local\\Programs\\Python\\Python310\\lib\\site-packages\\sklearn\\linear_model\\_coordinate_descent.py:647: ConvergenceWarning: Objective did not converge. You might want to increase the number of iterations, check the scale of the features or consider increasing regularisation. Duality gap: 8.267e+02, tolerance: 1.771e+01\n",
      "  model = cd_fast.enet_coordinate_descent(\n",
      "c:\\Users\\ACT\\AppData\\Local\\Programs\\Python\\Python310\\lib\\site-packages\\sklearn\\linear_model\\_coordinate_descent.py:647: ConvergenceWarning: Objective did not converge. You might want to increase the number of iterations, check the scale of the features or consider increasing regularisation. Duality gap: 7.502e+02, tolerance: 1.771e+01\n",
      "  model = cd_fast.enet_coordinate_descent(\n",
      "c:\\Users\\ACT\\AppData\\Local\\Programs\\Python\\Python310\\lib\\site-packages\\sklearn\\linear_model\\_coordinate_descent.py:647: ConvergenceWarning: Objective did not converge. You might want to increase the number of iterations, check the scale of the features or consider increasing regularisation. Duality gap: 6.849e+02, tolerance: 1.771e+01\n",
      "  model = cd_fast.enet_coordinate_descent(\n",
      "c:\\Users\\ACT\\AppData\\Local\\Programs\\Python\\Python310\\lib\\site-packages\\sklearn\\linear_model\\_coordinate_descent.py:647: ConvergenceWarning: Objective did not converge. You might want to increase the number of iterations, check the scale of the features or consider increasing regularisation. Duality gap: 6.288e+02, tolerance: 1.771e+01\n",
      "  model = cd_fast.enet_coordinate_descent(\n",
      "c:\\Users\\ACT\\AppData\\Local\\Programs\\Python\\Python310\\lib\\site-packages\\sklearn\\linear_model\\_coordinate_descent.py:647: ConvergenceWarning: Objective did not converge. You might want to increase the number of iterations, check the scale of the features or consider increasing regularisation. Duality gap: 5.756e+02, tolerance: 1.771e+01\n",
      "  model = cd_fast.enet_coordinate_descent(\n",
      "c:\\Users\\ACT\\AppData\\Local\\Programs\\Python\\Python310\\lib\\site-packages\\sklearn\\linear_model\\_coordinate_descent.py:647: ConvergenceWarning: Objective did not converge. You might want to increase the number of iterations, check the scale of the features or consider increasing regularisation. Duality gap: 5.246e+02, tolerance: 1.771e+01\n",
      "  model = cd_fast.enet_coordinate_descent(\n",
      "c:\\Users\\ACT\\AppData\\Local\\Programs\\Python\\Python310\\lib\\site-packages\\sklearn\\linear_model\\_coordinate_descent.py:647: ConvergenceWarning: Objective did not converge. You might want to increase the number of iterations, check the scale of the features or consider increasing regularisation. Duality gap: 4.779e+02, tolerance: 1.771e+01\n",
      "  model = cd_fast.enet_coordinate_descent(\n",
      "c:\\Users\\ACT\\AppData\\Local\\Programs\\Python\\Python310\\lib\\site-packages\\sklearn\\linear_model\\_coordinate_descent.py:647: ConvergenceWarning: Objective did not converge. You might want to increase the number of iterations, check the scale of the features or consider increasing regularisation. Duality gap: 4.367e+02, tolerance: 1.771e+01\n",
      "  model = cd_fast.enet_coordinate_descent(\n",
      "c:\\Users\\ACT\\AppData\\Local\\Programs\\Python\\Python310\\lib\\site-packages\\sklearn\\linear_model\\_coordinate_descent.py:647: ConvergenceWarning: Objective did not converge. You might want to increase the number of iterations, check the scale of the features or consider increasing regularisation. Duality gap: 4.005e+02, tolerance: 1.771e+01\n",
      "  model = cd_fast.enet_coordinate_descent(\n",
      "c:\\Users\\ACT\\AppData\\Local\\Programs\\Python\\Python310\\lib\\site-packages\\sklearn\\linear_model\\_coordinate_descent.py:647: ConvergenceWarning: Objective did not converge. You might want to increase the number of iterations, check the scale of the features or consider increasing regularisation. Duality gap: 3.707e+02, tolerance: 1.771e+01\n",
      "  model = cd_fast.enet_coordinate_descent(\n",
      "c:\\Users\\ACT\\AppData\\Local\\Programs\\Python\\Python310\\lib\\site-packages\\sklearn\\linear_model\\_coordinate_descent.py:647: ConvergenceWarning: Objective did not converge. You might want to increase the number of iterations, check the scale of the features or consider increasing regularisation. Duality gap: 3.466e+02, tolerance: 1.771e+01\n",
      "  model = cd_fast.enet_coordinate_descent(\n",
      "c:\\Users\\ACT\\AppData\\Local\\Programs\\Python\\Python310\\lib\\site-packages\\sklearn\\linear_model\\_coordinate_descent.py:647: ConvergenceWarning: Objective did not converge. You might want to increase the number of iterations, check the scale of the features or consider increasing regularisation. Duality gap: 3.266e+02, tolerance: 1.771e+01\n",
      "  model = cd_fast.enet_coordinate_descent(\n",
      "c:\\Users\\ACT\\AppData\\Local\\Programs\\Python\\Python310\\lib\\site-packages\\sklearn\\linear_model\\_coordinate_descent.py:647: ConvergenceWarning: Objective did not converge. You might want to increase the number of iterations, check the scale of the features or consider increasing regularisation. Duality gap: 3.085e+02, tolerance: 1.771e+01\n",
      "  model = cd_fast.enet_coordinate_descent(\n",
      "c:\\Users\\ACT\\AppData\\Local\\Programs\\Python\\Python310\\lib\\site-packages\\sklearn\\linear_model\\_coordinate_descent.py:647: ConvergenceWarning: Objective did not converge. You might want to increase the number of iterations, check the scale of the features or consider increasing regularisation. Duality gap: 2.920e+02, tolerance: 1.771e+01\n",
      "  model = cd_fast.enet_coordinate_descent(\n",
      "c:\\Users\\ACT\\AppData\\Local\\Programs\\Python\\Python310\\lib\\site-packages\\sklearn\\linear_model\\_coordinate_descent.py:647: ConvergenceWarning: Objective did not converge. You might want to increase the number of iterations, check the scale of the features or consider increasing regularisation. Duality gap: 2.775e+02, tolerance: 1.771e+01\n",
      "  model = cd_fast.enet_coordinate_descent(\n",
      "c:\\Users\\ACT\\AppData\\Local\\Programs\\Python\\Python310\\lib\\site-packages\\sklearn\\linear_model\\_coordinate_descent.py:647: ConvergenceWarning: Objective did not converge. You might want to increase the number of iterations, check the scale of the features or consider increasing regularisation. Duality gap: 2.656e+02, tolerance: 1.771e+01\n",
      "  model = cd_fast.enet_coordinate_descent(\n",
      "c:\\Users\\ACT\\AppData\\Local\\Programs\\Python\\Python310\\lib\\site-packages\\sklearn\\linear_model\\_coordinate_descent.py:647: ConvergenceWarning: Objective did not converge. You might want to increase the number of iterations, check the scale of the features or consider increasing regularisation. Duality gap: 2.558e+02, tolerance: 1.771e+01\n",
      "  model = cd_fast.enet_coordinate_descent(\n",
      "c:\\Users\\ACT\\AppData\\Local\\Programs\\Python\\Python310\\lib\\site-packages\\sklearn\\linear_model\\_coordinate_descent.py:647: ConvergenceWarning: Objective did not converge. You might want to increase the number of iterations, check the scale of the features or consider increasing regularisation. Duality gap: 2.477e+02, tolerance: 1.771e+01\n",
      "  model = cd_fast.enet_coordinate_descent(\n",
      "c:\\Users\\ACT\\AppData\\Local\\Programs\\Python\\Python310\\lib\\site-packages\\sklearn\\linear_model\\_coordinate_descent.py:647: ConvergenceWarning: Objective did not converge. You might want to increase the number of iterations, check the scale of the features or consider increasing regularisation. Duality gap: 2.409e+02, tolerance: 1.771e+01\n",
      "  model = cd_fast.enet_coordinate_descent(\n",
      "c:\\Users\\ACT\\AppData\\Local\\Programs\\Python\\Python310\\lib\\site-packages\\sklearn\\linear_model\\_coordinate_descent.py:647: ConvergenceWarning: Objective did not converge. You might want to increase the number of iterations, check the scale of the features or consider increasing regularisation. Duality gap: 2.349e+02, tolerance: 1.771e+01\n",
      "  model = cd_fast.enet_coordinate_descent(\n",
      "c:\\Users\\ACT\\AppData\\Local\\Programs\\Python\\Python310\\lib\\site-packages\\sklearn\\linear_model\\_coordinate_descent.py:647: ConvergenceWarning: Objective did not converge. You might want to increase the number of iterations, check the scale of the features or consider increasing regularisation. Duality gap: 2.297e+02, tolerance: 1.771e+01\n",
      "  model = cd_fast.enet_coordinate_descent(\n",
      "c:\\Users\\ACT\\AppData\\Local\\Programs\\Python\\Python310\\lib\\site-packages\\sklearn\\linear_model\\_coordinate_descent.py:647: ConvergenceWarning: Objective did not converge. You might want to increase the number of iterations, check the scale of the features or consider increasing regularisation. Duality gap: 2.250e+02, tolerance: 1.771e+01\n",
      "  model = cd_fast.enet_coordinate_descent(\n",
      "c:\\Users\\ACT\\AppData\\Local\\Programs\\Python\\Python310\\lib\\site-packages\\sklearn\\linear_model\\_coordinate_descent.py:647: ConvergenceWarning: Objective did not converge. You might want to increase the number of iterations, check the scale of the features or consider increasing regularisation. Duality gap: 2.208e+02, tolerance: 1.771e+01\n",
      "  model = cd_fast.enet_coordinate_descent(\n",
      "c:\\Users\\ACT\\AppData\\Local\\Programs\\Python\\Python310\\lib\\site-packages\\sklearn\\linear_model\\_coordinate_descent.py:647: ConvergenceWarning: Objective did not converge. You might want to increase the number of iterations, check the scale of the features or consider increasing regularisation. Duality gap: 2.170e+02, tolerance: 1.771e+01\n",
      "  model = cd_fast.enet_coordinate_descent(\n",
      "c:\\Users\\ACT\\AppData\\Local\\Programs\\Python\\Python310\\lib\\site-packages\\sklearn\\linear_model\\_coordinate_descent.py:647: ConvergenceWarning: Objective did not converge. You might want to increase the number of iterations, check the scale of the features or consider increasing regularisation. Duality gap: 2.135e+02, tolerance: 1.771e+01\n",
      "  model = cd_fast.enet_coordinate_descent(\n",
      "c:\\Users\\ACT\\AppData\\Local\\Programs\\Python\\Python310\\lib\\site-packages\\sklearn\\linear_model\\_coordinate_descent.py:647: ConvergenceWarning: Objective did not converge. You might want to increase the number of iterations, check the scale of the features or consider increasing regularisation. Duality gap: 2.103e+02, tolerance: 1.771e+01\n",
      "  model = cd_fast.enet_coordinate_descent(\n",
      "c:\\Users\\ACT\\AppData\\Local\\Programs\\Python\\Python310\\lib\\site-packages\\sklearn\\linear_model\\_coordinate_descent.py:647: ConvergenceWarning: Objective did not converge. You might want to increase the number of iterations, check the scale of the features or consider increasing regularisation. Duality gap: 2.072e+02, tolerance: 1.771e+01\n",
      "  model = cd_fast.enet_coordinate_descent(\n",
      "c:\\Users\\ACT\\AppData\\Local\\Programs\\Python\\Python310\\lib\\site-packages\\sklearn\\linear_model\\_coordinate_descent.py:647: ConvergenceWarning: Objective did not converge. You might want to increase the number of iterations, check the scale of the features or consider increasing regularisation. Duality gap: 2.044e+02, tolerance: 1.771e+01\n",
      "  model = cd_fast.enet_coordinate_descent(\n",
      "c:\\Users\\ACT\\AppData\\Local\\Programs\\Python\\Python310\\lib\\site-packages\\sklearn\\linear_model\\_coordinate_descent.py:647: ConvergenceWarning: Objective did not converge. You might want to increase the number of iterations, check the scale of the features or consider increasing regularisation. Duality gap: 2.017e+02, tolerance: 1.771e+01\n",
      "  model = cd_fast.enet_coordinate_descent(\n",
      "c:\\Users\\ACT\\AppData\\Local\\Programs\\Python\\Python310\\lib\\site-packages\\sklearn\\linear_model\\_coordinate_descent.py:647: ConvergenceWarning: Objective did not converge. You might want to increase the number of iterations, check the scale of the features or consider increasing regularisation. Duality gap: 1.992e+02, tolerance: 1.771e+01\n",
      "  model = cd_fast.enet_coordinate_descent(\n",
      "c:\\Users\\ACT\\AppData\\Local\\Programs\\Python\\Python310\\lib\\site-packages\\sklearn\\linear_model\\_coordinate_descent.py:647: ConvergenceWarning: Objective did not converge. You might want to increase the number of iterations, check the scale of the features or consider increasing regularisation. Duality gap: 2.694e+03, tolerance: 2.189e+01\n",
      "  model = cd_fast.enet_coordinate_descent(\n"
     ]
    }
   ],
   "source": [
    "from sklearn.linear_model import LassoCV\n",
    "\n",
    "# Make a list of 50 values between 0.000001 & 1,000,000\n",
    "alphas = np.logspace(-6, 6, 50)\n",
    "\n",
    "# We will do 5-fold cross validation\n",
    "reg = LassoCV(alphas=alphas, fit_intercept=False, cv=5)\n",
    "\n",
    "reg.fit(x_train_poly, y_train)\n",
    "\n",
    "y_train_pred = reg.predict(x_train_poly)\n",
    "y_test_pred = reg.predict(x_test_poly)"
   ]
  },
  {
   "cell_type": "code",
   "execution_count": 71,
   "metadata": {},
   "outputs": [
    {
     "name": "stdout",
     "output_type": "stream",
     "text": [
      "R2 Regressor = 0.87 vs Baseline = -0.00\n",
      "MAE Regressor = 2.75 vs Baseline = 7.09\n",
      "MSE Regressor = 12.39 vs Baseline = 97.12\n"
     ]
    }
   ],
   "source": [
    "# There are three commonly used metrics for regression: R2, MAE, and MSE\n",
    "\n",
    "from sklearn.metrics import r2_score, mean_absolute_error, mean_squared_error\n",
    "\n",
    "print(\n",
    "    'R2 Regressor = {:.2f} vs Baseline = {:.2f}'.format(\n",
    "        r2_score(y_test,y_test_pred),\n",
    "        r2_score(y_test, y_baseline)\n",
    "        )\n",
    ")\n",
    "\n",
    "print(\n",
    "    'MAE Regressor = {:.2f} vs Baseline = {:.2f}'.format(\n",
    "        mean_absolute_error(y_test, y_test_pred),\n",
    "        mean_absolute_error(y_test, y_baseline)\n",
    "        )\n",
    ")\n",
    "\n",
    "print(\n",
    "    'MSE Regressor = {:.2f} vs Baseline = {:.2f}'.format(\n",
    "        mean_squared_error(y_test, y_test_pred),\n",
    "        mean_squared_error(y_test, y_baseline)\n",
    "        )\n",
    ")"
   ]
  },
  {
   "cell_type": "markdown",
   "metadata": {},
   "source": [
    "                we achieve 87% accuracy"
   ]
  }
 ],
 "metadata": {
  "kernelspec": {
   "display_name": "Python 3.10.2 64-bit",
   "language": "python",
   "name": "python3"
  },
  "language_info": {
   "codemirror_mode": {
    "name": "ipython",
    "version": 3
   },
   "file_extension": ".py",
   "mimetype": "text/x-python",
   "name": "python",
   "nbconvert_exporter": "python",
   "pygments_lexer": "ipython3",
   "version": "3.10.2"
  },
  "orig_nbformat": 4,
  "vscode": {
   "interpreter": {
    "hash": "412ccff6fb13ee14c93d2b8b85fab99f2d3a6250a390f2b105cadca88f5395d9"
   }
  }
 },
 "nbformat": 4,
 "nbformat_minor": 2
}
